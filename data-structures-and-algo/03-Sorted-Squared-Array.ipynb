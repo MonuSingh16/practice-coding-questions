{
 "cells": [
  {
   "attachments": {},
   "cell_type": "markdown",
   "metadata": {},
   "source": [
    "**Sorted Squared Array**\n",
    "\n",
    "**Sol.1**\n"
   ]
  },
  {
   "cell_type": "code",
   "execution_count": 1,
   "metadata": {},
   "outputs": [],
   "source": [
    "def sortedSquaredArray(array):\n",
    "    # Write your code here.\n",
    "    out = [0] * len(array)\n",
    "    mint = 0\n",
    "    maxt = len(array) - 1\n",
    "    i = len(array) - 1\n",
    "\n",
    "    while mint <= maxt:\n",
    "        if abs(array[mint]) > abs(array[maxt]):\n",
    "            out[i] = array[mint] * array[mint]\n",
    "            mint += 1\n",
    "        else:\n",
    "            out[i] = array[maxt] * array[maxt]\n",
    "            maxt -= 1\n",
    "        i -= 1\n",
    "    return out\n"
   ]
  },
  {
   "cell_type": "code",
   "execution_count": 2,
   "metadata": {},
   "outputs": [],
   "source": [
    "def sortedSquaredArray(array):\n",
    "    # Write your code here.\n",
    "    result = [i**2 for i in array]\n",
    "    return sorted(result)"
   ]
  },
  {
   "cell_type": "code",
   "execution_count": 3,
   "metadata": {},
   "outputs": [],
   "source": [
    "def sortedSquaredArray(array):\n",
    "    \n",
    "    # Write your code here.\n",
    "    new_array = []\n",
    "    for i in array:\n",
    "        k = i ** 2\n",
    "        new_array.append(k)\n",
    "    return sorted(new_array)\n",
    "\n",
    "if __name__ == 'main':\n",
    "    array = [0, 25, 25, 100, 100]\n",
    "    new_array = sortedSquaredArray(array)\n",
    "    "
   ]
  },
  {
   "cell_type": "code",
   "execution_count": null,
   "metadata": {},
   "outputs": [],
   "source": []
  }
 ],
 "metadata": {
  "kernelspec": {
   "display_name": "venv-interviews-3.9",
   "language": "python",
   "name": "python3"
  },
  "language_info": {
   "codemirror_mode": {
    "name": "ipython",
    "version": 3
   },
   "file_extension": ".py",
   "mimetype": "text/x-python",
   "name": "python",
   "nbconvert_exporter": "python",
   "pygments_lexer": "ipython3",
   "version": "3.9.16"
  },
  "orig_nbformat": 4
 },
 "nbformat": 4,
 "nbformat_minor": 2
}
