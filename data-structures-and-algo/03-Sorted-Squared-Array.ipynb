{
 "cells": [
  {
   "attachments": {},
   "cell_type": "markdown",
   "metadata": {},
   "source": [
    "**Validate Subsequence**\n",
    "\n",
    "**Sol.1**\n",
    "Just loop through the main array (conveniently titled 'array') and only increment the value of 'j' everytime array[i] == sequence[j]. Once 'j' equals the length of 'sequence', we can return True; otherwise if the loop ends and 'j' isnt equal to the length of 'sequence', we can return False.\n"
   ]
  },
  {
   "cell_type": "code",
   "execution_count": 1,
   "metadata": {},
   "outputs": [],
   "source": [
    "def isValidSubsequence(array, sequence):\n",
    "    # Write your code here.\n",
    "    j = 0\n",
    "    for i in range(len(array)):\n",
    "        if array[i] == sequence[j]:\n",
    "            j += 1\n",
    "        if j == len(sequence):\n",
    "            return True\n",
    "    return False\n",
    "\n",
    "if __name__ == 'main':\n",
    "    array = [5, 1, 22, 25, 6, -1, 8, 10]\n",
    "    sequence = [1, 6, -1, 10]\n",
    "    \n",
    "    isValidSubsequence(array, sequence)"
   ]
  }
 ],
 "metadata": {
  "kernelspec": {
   "display_name": "venv-interviews-3.9",
   "language": "python",
   "name": "python3"
  },
  "language_info": {
   "codemirror_mode": {
    "name": "ipython",
    "version": 3
   },
   "file_extension": ".py",
   "mimetype": "text/x-python",
   "name": "python",
   "nbconvert_exporter": "python",
   "pygments_lexer": "ipython3",
   "version": "3.9.16"
  },
  "orig_nbformat": 4
 },
 "nbformat": 4,
 "nbformat_minor": 2
}
