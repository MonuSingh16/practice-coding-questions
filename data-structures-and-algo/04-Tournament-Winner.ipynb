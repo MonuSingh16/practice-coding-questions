{
 "cells": [
  {
   "attachments": {},
   "cell_type": "markdown",
   "metadata": {},
   "source": [
    "**Tournament Winner**\n",
    "\n",
    "**Sol.1**\n",
    "\n",
    "Use a dictionary to store teams and their respective points, and a tuple to keep track of the current team with the most points. \n",
    "\n"
   ]
  },
  {
   "cell_type": "code",
   "execution_count": 1,
   "metadata": {},
   "outputs": [],
   "source": [
    "def tournamentWinner(competitions, results):\n",
    "    # Write your code here.\n",
    "    teamPoints = {}\n",
    "    currentWinner = '', 0\n",
    "    for competition, result in zip(competitions, results):\n",
    "        winner = competition[not result]\n",
    "        loser = competition[result]\n",
    "\n",
    "        if winner not in teamPoints:\n",
    "            teamPoints[winner] = 0\n",
    "        else:\n",
    "            teamPoints[winner] += 3\n",
    "\n",
    "        if teamPoints[winner] > currentWinner[1]:\n",
    "            currentWinner = winner, teamPoints[winner]\n",
    "\n",
    "    return currentWinner[0]\n"
   ]
  },
  {
   "cell_type": "code",
   "execution_count": null,
   "metadata": {},
   "outputs": [],
   "source": []
  }
 ],
 "metadata": {
  "kernelspec": {
   "display_name": "venv-interviews-3.9",
   "language": "python",
   "name": "python3"
  },
  "language_info": {
   "codemirror_mode": {
    "name": "ipython",
    "version": 3
   },
   "file_extension": ".py",
   "mimetype": "text/x-python",
   "name": "python",
   "nbconvert_exporter": "python",
   "pygments_lexer": "ipython3",
   "version": "3.9.16"
  },
  "orig_nbformat": 4
 },
 "nbformat": 4,
 "nbformat_minor": 2
}
