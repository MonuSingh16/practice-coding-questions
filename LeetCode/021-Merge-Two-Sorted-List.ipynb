{
 "cells": [
  {
   "attachments": {},
   "cell_type": "markdown",
   "metadata": {},
   "source": [
    "**Merge Two Sorted List**\n",
    "\n",
    "You are given the heads of two sorted linked lists list1 and list2.\n",
    "\n",
    "Merge the two lists in a one sorted list. The list should be made by splicing together the nodes of the first two lists.\n",
    "\n"
   ]
  },
  {
   "cell_type": "code",
   "execution_count": 2,
   "metadata": {},
   "outputs": [],
   "source": [
    "# Definition for singly-linked list.\n",
    "# class ListNode:\n",
    "#     def __init__(self, val=0, next=None):\n",
    "#         self.val = val\n",
    "#         self.next = next\n",
    "class Solution:\n",
    "    def mergeTwoLists(self, list1, list2):\n",
    "        dummy = ListNode()\n",
    "        tail = dummy\n",
    "\n",
    "        while list1 and list2:\n",
    "            if list1.val < list2.val:\n",
    "                tail.next = list1\n",
    "                list1 = list1.next\n",
    "            else:\n",
    "                tail.next = list2\n",
    "                list2 = list2.next\n",
    "            tail = tail.next\n",
    "\n",
    "        if list1:\n",
    "            tail.next = list1\n",
    "        elif list2:\n",
    "            tail.next = list2\n",
    "\n",
    "        return dummy.next\n"
   ]
  },
  {
   "cell_type": "code",
   "execution_count": null,
   "metadata": {},
   "outputs": [],
   "source": []
  }
 ],
 "metadata": {
  "kernelspec": {
   "display_name": "venv-interviews-3.9",
   "language": "python",
   "name": "python3"
  },
  "language_info": {
   "codemirror_mode": {
    "name": "ipython",
    "version": 3
   },
   "file_extension": ".py",
   "mimetype": "text/x-python",
   "name": "python",
   "nbconvert_exporter": "python",
   "pygments_lexer": "ipython3",
   "version": "3.9.16"
  },
  "orig_nbformat": 4
 },
 "nbformat": 4,
 "nbformat_minor": 2
}
