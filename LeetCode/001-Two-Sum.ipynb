{
 "cells": [
  {
   "attachments": {},
   "cell_type": "markdown",
   "metadata": {},
   "source": [
    "**Two Sum**\n",
    "\n",
    "Given an array of integers nums and an integer target, return indices of the two numbers such that they add up to target.\n",
    "\n",
    "You may assume that each input would have exactly one solution, and you may not use the same element twice.\n",
    "\n",
    "You can return the answer in any order.\n",
    "\n"
   ]
  },
  {
   "cell_type": "code",
   "execution_count": null,
   "metadata": {},
   "outputs": [],
   "source": [
    "class Solution:\n",
    "    def twoSum(self, nums, target: int):\n",
    "        prevMap = {}  # val -> index\n",
    "\n",
    "        for i, n in enumerate(nums):\n",
    "            diff = target - n\n",
    "            if diff in prevMap:\n",
    "                return [prevMap[diff], i]\n",
    "            prevMap[n] = i"
   ]
  },
  {
   "cell_type": "code",
   "execution_count": null,
   "metadata": {},
   "outputs": [],
   "source": [
    "class Solution:\n",
    "    def twoSum(self, nums, target:int):\n",
    "        prevMap = {}\n",
    "        for i, n in enumerate(nums):\n",
    "            diff = target - n\n",
    "            if diff in prevMap:\n",
    "                return [prevMap[diff], i]\n",
    "            prevMap[n] = i"
   ]
  }
 ],
 "metadata": {
  "language_info": {
   "name": "python"
  },
  "orig_nbformat": 4
 },
 "nbformat": 4,
 "nbformat_minor": 2
}
