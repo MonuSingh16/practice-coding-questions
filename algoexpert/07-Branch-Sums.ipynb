{
 "cells": [
  {
   "attachments": {},
   "cell_type": "markdown",
   "metadata": {},
   "source": [
    "**Branch Sums**\n",
    "\n",
    "Wriet a function that takes in BST and returns a list if its branch sums ordered from leftmost branch to rightmost brach sum \n",
    "\n",
    "A Binary Tree is represented by a list of nodes and a root node. Every node has to have a unique string id that will be referenced by other nodes' left and right pointers and by the root.\n",
    "\n"
   ]
  },
  {
   "cell_type": "code",
   "execution_count": 1,
   "metadata": {},
   "outputs": [],
   "source": [
    "# This is the class of the input root. Do not edit it.\n",
    "class BinaryTree:\n",
    "    def __init__(self, value):\n",
    "        self.value = value\n",
    "        self.left = None\n",
    "        self.right = None\n",
    "\n",
    "\n",
    "def branchSums(root):\n",
    "    # Write your code here.\n",
    "    sums = []\n",
    "    calculateBranchSums(root, 0, sums)\n",
    "    return sums\n",
    "\n",
    "def calculateBranchSums(node, runningSum, sums):\n",
    "\n",
    "    if node is None:\n",
    "        return\n",
    " \n",
    "    newRunningSum = runningSum + node.value\n",
    "    if node.left is None and node.right is None:\n",
    "        sums.append(newRunningSum)\n",
    "        return\n",
    "    \n",
    "    calculateBranchSums(node.left, newRunningSum, sums)\n",
    "    calculateBranchSums(node.right, newRunningSum, sums)"
   ]
  },
  {
   "cell_type": "code",
   "execution_count": null,
   "metadata": {},
   "outputs": [],
   "source": []
  }
 ],
 "metadata": {
  "kernelspec": {
   "display_name": "venv-interviews-3.9",
   "language": "python",
   "name": "python3"
  },
  "language_info": {
   "codemirror_mode": {
    "name": "ipython",
    "version": 3
   },
   "file_extension": ".py",
   "mimetype": "text/x-python",
   "name": "python",
   "nbconvert_exporter": "python",
   "pygments_lexer": "ipython3",
   "version": "3.9.16"
  },
  "orig_nbformat": 4
 },
 "nbformat": 4,
 "nbformat_minor": 2
}
