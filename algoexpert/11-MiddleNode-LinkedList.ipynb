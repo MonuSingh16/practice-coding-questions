{
 "cells": [
  {
   "attachments": {},
   "cell_type": "markdown",
   "metadata": {},
   "source": [
    "**Middle Node**\n",
    "\n",
    "Q - You are given a linkedList with at least one node. Write a function that returns the middle node of the linkedList. If there are two middle Node(i.e. an even length list), your function should return the second of these nodes\n",
    "\n",
    "A Singly Linked List is represented by a list of nodes and a head node. Every node has to have a unique string id that will be referenced by other nodes' next pointers and by the head.\n"
   ]
  },
  {
   "cell_type": "code",
   "execution_count": 1,
   "metadata": {},
   "outputs": [
    {
     "data": {
      "text/plain": [
       "{'head': '1', 'nodes': [{'id': '1', 'next': 'null', 'value': 1}]}"
      ]
     },
     "execution_count": 1,
     "metadata": {},
     "output_type": "execute_result"
    }
   ],
   "source": [
    "{\n",
    "  \"head\": \"1\",\n",
    "  \"nodes\": [\n",
    "    {\"id\": \"1\", \"next\": 'null', \"value\": 1}\n",
    "  ]\n",
    "}"
   ]
  },
  {
   "cell_type": "code",
   "execution_count": null,
   "metadata": {},
   "outputs": [],
   "source": []
  }
 ],
 "metadata": {
  "kernelspec": {
   "display_name": "venv-interviews-3.9",
   "language": "python",
   "name": "python3"
  },
  "language_info": {
   "codemirror_mode": {
    "name": "ipython",
    "version": 3
   },
   "file_extension": ".py",
   "mimetype": "text/x-python",
   "name": "python",
   "nbconvert_exporter": "python",
   "pygments_lexer": "ipython3",
   "version": "3.9.16"
  },
  "orig_nbformat": 4
 },
 "nbformat": 4,
 "nbformat_minor": 2
}
