{
 "cells": [
  {
   "attachments": {},
   "cell_type": "markdown",
   "metadata": {},
   "source": [
    "**Tournament Winner**\n",
    "\n",
    "Given input - \n",
    "\n",
    "`competitions = \n",
    "[\n",
    "  [\"HTML\", \"C#\"],\n",
    "  [\"C#\", \"Python\"],\n",
    "  [\"Python\", \"HTML\"]\n",
    "]`\n",
    "\n",
    "`results = [0, 0, 1]`\n",
    "\n",
    "Where if hometeam won then score in results is 1 and 0 means that away team won. Length of name of team will be maximum 30 characters\n",
    "\n",
    "\n",
    "**Sol.1**\n",
    "\n",
    "Use a dictionary to store teams and their respective points, and a tuple to keep track of the current team with the most points. \n",
    "\n"
   ]
  },
  {
   "cell_type": "code",
   "execution_count": 2,
   "metadata": {},
   "outputs": [],
   "source": [
    "HOME_TEAM_WON = 1\n",
    "\n",
    "def tournamentWinner(competitions, results):\n",
    "    # Write your code here.\n",
    "    currentBestTeam = \"\"\n",
    "    scores  = {currentBestTeam: 0}\n",
    "    \n",
    "    for idx, competition in enumerate(competitions):\n",
    "        result = results[idx]\n",
    "        homeTeam, awayTeam = competition\n",
    "\n",
    "        winningTeam = homeTeam if result == HOME_TEAM_WON else awayTeam\n",
    "\n",
    "        updateScores(winningTeam, 3, scores)\n",
    "\n",
    "        if scores[winningTeam] > scores[currentBestTeam]:\n",
    "            currentBestTeam = winningTeam\n",
    "\n",
    "    return currentBestTeam\n",
    "\n",
    "def updateScores(team, points, scores):\n",
    "    if team not in scores:\n",
    "        scores[team] = 0\n",
    "\n",
    "    scores[team] += points"
   ]
  },
  {
   "cell_type": "code",
   "execution_count": 3,
   "metadata": {},
   "outputs": [
    {
     "data": {
      "text/plain": [
       "'Python'"
      ]
     },
     "execution_count": 3,
     "metadata": {},
     "output_type": "execute_result"
    }
   ],
   "source": [
    "competitions = [\n",
    "  [\"HTML\", \"C#\"],\n",
    "  [\"C#\", \"Python\"],\n",
    "  [\"Python\", \"HTML\"]\n",
    "]\n",
    "results = [0, 0, 1]\n",
    "tournamentWinner(competitions, results)"
   ]
  },
  {
   "cell_type": "code",
   "execution_count": null,
   "metadata": {},
   "outputs": [],
   "source": []
  }
 ],
 "metadata": {
  "kernelspec": {
   "display_name": "venv-interviews-3.9",
   "language": "python",
   "name": "python3"
  },
  "language_info": {
   "codemirror_mode": {
    "name": "ipython",
    "version": 3
   },
   "file_extension": ".py",
   "mimetype": "text/x-python",
   "name": "python",
   "nbconvert_exporter": "python",
   "pygments_lexer": "ipython3",
   "version": "3.9.16"
  },
  "orig_nbformat": 4
 },
 "nbformat": 4,
 "nbformat_minor": 2
}
