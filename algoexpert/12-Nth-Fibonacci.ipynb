{
 "cells": [
  {
   "attachments": {},
   "cell_type": "markdown",
   "metadata": {},
   "source": [
    "**Nth Fibonacci**\n",
    "\n",
    "First number of sequence is 0, the second number is 1, and the nth number is the sum of the (n-1) and (n-2). Write a function that takeas an integer n and returns the nth fibonacci number\n",
    "\n",
    "F0 = 0\n",
    "F1 = 1\n",
    "\n",
    "Important note: the Fibonacci sequence is often defined with its first two numbers as F0 = 0 and F1 = 1. For the purpose of this question, the first Fibonacci number is F0; therefore, getNthFib(1) is equal to F0, getNthFib(2) is equal to F1, etc.."
   ]
  },
  {
   "cell_type": "code",
   "execution_count": 1,
   "metadata": {},
   "outputs": [],
   "source": [
    "# O(2^n) - Time and O(n) - Space\n",
    "def getNthFib(n):\n",
    "    if n == 2:\n",
    "        return 1\n",
    "    elif n == 1:\n",
    "        return 0\n",
    "    else:\n",
    "        return getNthFib(n-1) + getNthFib(n-2)\n",
    "    # Write your code here.\n",
    "    \n"
   ]
  },
  {
   "cell_type": "code",
   "execution_count": 2,
   "metadata": {},
   "outputs": [],
   "source": [
    "# O() - Time and O() - Space\n",
    "def getNthFib(n, memoize = {1:0, 2:1}):\n",
    "    # Write your code here.\n",
    "    if n in memoize:\n",
    "        return memoize[n]\n",
    "    else:\n",
    "        memoize[n] = getNthFib(n -1, memoize) + getNthFib(n-2, memoize)\n",
    "        return memoize[n]\n"
   ]
  },
  {
   "cell_type": "code",
   "execution_count": 3,
   "metadata": {},
   "outputs": [],
   "source": [
    "#O(n) Time and O(1) Space\n",
    "def getNthFib(n):\n",
    "    # Write your code here.\n",
    "    lastTwo = [0, 1]\n",
    "    counter = 3\n",
    "    while counter <= n:\n",
    "        nextFib = lastTwo[0] + lastTwo[1]\n",
    "        lastTwo[0] = lastTwo[1]\n",
    "        lastTwo[1] = nextFib\n",
    "        counter += 1\n",
    "    return lastTwo[1] if n > 1 else lastTwo[0]\n"
   ]
  },
  {
   "cell_type": "code",
   "execution_count": null,
   "metadata": {},
   "outputs": [],
   "source": []
  }
 ],
 "metadata": {
  "kernelspec": {
   "display_name": "venv-interviews-3.9",
   "language": "python",
   "name": "python3"
  },
  "language_info": {
   "codemirror_mode": {
    "name": "ipython",
    "version": 3
   },
   "file_extension": ".py",
   "mimetype": "text/x-python",
   "name": "python",
   "nbconvert_exporter": "python",
   "pygments_lexer": "ipython3",
   "version": "3.9.16"
  },
  "orig_nbformat": 4
 },
 "nbformat": 4,
 "nbformat_minor": 2
}
