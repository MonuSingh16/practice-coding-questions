{
 "cells": [
  {
   "attachments": {},
   "cell_type": "markdown",
   "metadata": {},
   "source": [
    "**Q.1 Two Numbers Sum**\n",
    "\n",
    "**Sol.1**\n",
    "Pretty straightforward solution - store all values from array in a set. Then loop through each number in the array, looking for its pair in the set. If it's there we return the two numbers, otherwise loop exits and empty array is returned. \n",
    "\n",
    "**Sol.2**\n",
    "You have 2 arrays, 1 that stores the numbers to return (numbers) and 1 that stores the numbers that have been looped past (table)\n",
    "\n",
    "Loop through the array and find out what number we need in \"array\" to achieve targetSum, if that number is in then append x and z to numbers and return it, if not then stire x\n"
   ]
  },
  {
   "cell_type": "code",
   "execution_count": 1,
   "metadata": {},
   "outputs": [],
   "source": [
    "def twoNumberSum(array, targetSum):\n",
    "    # Write your code here.\n",
    "    storage = set(num for num in array)\n",
    "    \n",
    "    for num in array:\n",
    "        target = targetSum - num\n",
    "        if target in storage and target is not num:\n",
    "            return [num, target]\n",
    "            \n",
    "    return []\n",
    "\n",
    "if __name__ == 'main':\n",
    "    input_array = [3, 5, -4, 8, 11, -1, 6]\n",
    "    targetSum = 10\n",
    "\n",
    "    twoNumberSum(input_array, targetSum)"
   ]
  },
  {
   "cell_type": "code",
   "execution_count": 2,
   "metadata": {},
   "outputs": [],
   "source": [
    "def twoNumberSum(array, targetSum):\n",
    "    # Write your code here.\n",
    "    numbers = []\n",
    "    table = []\n",
    "    for x in array:\n",
    "        z = targetSum - x\n",
    "        if z in table:\n",
    "            numbers.append(x)\n",
    "            numbers.append(z)\n",
    "        else:\n",
    "            table.append(x)\n",
    "            \n",
    "    return numbers\n",
    "\n",
    "if __name__ == 'main':\n",
    "    input_array = [3, 5, -4, 8, 11, -1, 6]\n",
    "    targetSum = 10\n",
    "\n",
    "    twoNumberSum(input_array, targetSum)"
   ]
  },
  {
   "cell_type": "code",
   "execution_count": null,
   "metadata": {},
   "outputs": [],
   "source": []
  },
  {
   "cell_type": "code",
   "execution_count": null,
   "metadata": {},
   "outputs": [],
   "source": []
  }
 ],
 "metadata": {
  "kernelspec": {
   "display_name": "venv-interviews-3.9",
   "language": "python",
   "name": "python3"
  },
  "language_info": {
   "codemirror_mode": {
    "name": "ipython",
    "version": 3
   },
   "file_extension": ".py",
   "mimetype": "text/x-python",
   "name": "python",
   "nbconvert_exporter": "python",
   "pygments_lexer": "ipython3",
   "version": "3.9.16"
  },
  "orig_nbformat": 4
 },
 "nbformat": 4,
 "nbformat_minor": 2
}
