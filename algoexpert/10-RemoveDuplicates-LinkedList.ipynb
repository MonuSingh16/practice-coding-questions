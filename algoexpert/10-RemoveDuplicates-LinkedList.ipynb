{
 "cells": [
  {
   "attachments": {},
   "cell_type": "markdown",
   "metadata": {},
   "source": [
    "**Remove Duplicates From Linked List**\n",
    "\n",
    "A Singly Linked List is represented by a list of nodes and a head node. Every node has to have a unique string id that will be referenced by other nodes' next pointers and by the head.\n",
    "\n"
   ]
  },
  {
   "cell_type": "code",
   "execution_count": 2,
   "metadata": {},
   "outputs": [
    {
     "data": {
      "text/plain": [
       "{'head': '1',\n",
       " 'nodes': [{'id': '1', 'next': '1-2', 'value': 1},\n",
       "  {'id': '1-2', 'next': '1-3', 'value': 1},\n",
       "  {'id': '1-3', 'next': '2', 'value': 1},\n",
       "  {'id': '2', 'next': '3', 'value': 3},\n",
       "  {'id': '3', 'next': '3-2', 'value': 4},\n",
       "  {'id': '3-2', 'next': '3-3', 'value': 4},\n",
       "  {'id': '3-3', 'next': '4', 'value': 4},\n",
       "  {'id': '4', 'next': '5', 'value': 5},\n",
       "  {'id': '5', 'next': '5-2', 'value': 6},\n",
       "  {'id': '5-2', 'next': 'null', 'value': 6}]}"
      ]
     },
     "execution_count": 2,
     "metadata": {},
     "output_type": "execute_result"
    }
   ],
   "source": [
    "{\n",
    "  \"head\": \"1\",\n",
    "  \"nodes\": [\n",
    "    {\"id\": \"1\", \"next\": \"1-2\", \"value\": 1},\n",
    "    {\"id\": \"1-2\", \"next\": \"1-3\", \"value\": 1},\n",
    "    {\"id\": \"1-3\", \"next\": \"2\", \"value\": 1},\n",
    "    {\"id\": \"2\", \"next\": \"3\", \"value\": 3},\n",
    "    {\"id\": \"3\", \"next\": \"3-2\", \"value\": 4},\n",
    "    {\"id\": \"3-2\", \"next\": \"3-3\", \"value\": 4},\n",
    "    {\"id\": \"3-3\", \"next\": \"4\", \"value\": 4},\n",
    "    {\"id\": \"4\", \"next\": \"5\", \"value\": 5},\n",
    "    {\"id\": \"5\", \"next\": \"5-2\", \"value\": 6},\n",
    "    {\"id\": \"5-2\", \"next\": 'null', \"value\": 6}\n",
    "  ]\n",
    "}"
   ]
  },
  {
   "cell_type": "code",
   "execution_count": 3,
   "metadata": {},
   "outputs": [],
   "source": [
    "# This is an input class. Do not edit.\n",
    "class LinkedList:\n",
    "    def __init__(self, value):\n",
    "        self.value = value\n",
    "        self.next = None\n",
    "\n",
    "\n",
    "# O(n) - time and O(1) - Space\n",
    "def removeDuplicatesFromLinkedList(linkedList):\n",
    "    # Write your code here.\n",
    "    currentNode = linkedList\n",
    "    \n",
    "    while currentNode is not None:\n",
    "        nextDistinctNode = currentNode.next\n",
    "        while nextDistinctNode is not None and nextDistinctNode.value == currentNode.value:\n",
    "            nextDistinctNode = nextDistinctNode.next\n",
    "\n",
    "        currentNode.next = nextDistinctNode\n",
    "        currentNode = nextDistinctNode\n",
    "        \n",
    "    return linkedList"
   ]
  },
  {
   "cell_type": "code",
   "execution_count": null,
   "metadata": {},
   "outputs": [],
   "source": []
  }
 ],
 "metadata": {
  "kernelspec": {
   "display_name": "venv-interviews-3.9",
   "language": "python",
   "name": "python3"
  },
  "language_info": {
   "codemirror_mode": {
    "name": "ipython",
    "version": 3
   },
   "file_extension": ".py",
   "mimetype": "text/x-python",
   "name": "python",
   "nbconvert_exporter": "python",
   "pygments_lexer": "ipython3",
   "version": "3.9.16"
  },
  "orig_nbformat": 4
 },
 "nbformat": 4,
 "nbformat_minor": 2
}
