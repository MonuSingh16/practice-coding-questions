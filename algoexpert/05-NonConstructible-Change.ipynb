{
 "cells": [
  {
   "attachments": {},
   "cell_type": "markdown",
   "metadata": {},
   "source": [
    "**Non Constructible Change**\n",
    "\n",
    "coins = [5, 7, 1, 1, 2, 3, 22]\n",
    "\n",
    "Represents coins in your pocket. Write a function that returns minimum amount of change that you can not create.\n",
    "\n",
    "**Sol.1**"
   ]
  },
  {
   "cell_type": "code",
   "execution_count": 1,
   "metadata": {},
   "outputs": [],
   "source": [
    "def nonConstructibleChange(coins):\n",
    "    # Write your code here.\n",
    "    coins.sort()\n",
    "    minimum_change = 0\n",
    "    for coin in coins:\n",
    "        if coin > minimum_change + 1:\n",
    "            return minimum_change + 1\n",
    "        \n",
    "        minimum_change += coin\n",
    "    \n",
    "    return minimum_change + 1\n"
   ]
  },
  {
   "cell_type": "code",
   "execution_count": 2,
   "metadata": {},
   "outputs": [],
   "source": [
    "def nonConstructibleChange(coins):\n",
    "    # Write your code here.\n",
    "    coins.sort()\n",
    "    change = 1\n",
    "    for x in coins:\n",
    "        if x - change <= 0:\n",
    "            change += x\n",
    "        else:\n",
    "            break\n",
    "    return change"
   ]
  }
 ],
 "metadata": {
  "kernelspec": {
   "display_name": "venv-interviews-3.9",
   "language": "python",
   "name": "python3"
  },
  "language_info": {
   "codemirror_mode": {
    "name": "ipython",
    "version": 3
   },
   "file_extension": ".py",
   "mimetype": "text/x-python",
   "name": "python",
   "nbconvert_exporter": "python",
   "pygments_lexer": "ipython3",
   "version": "3.9.16"
  },
  "orig_nbformat": 4
 },
 "nbformat": 4,
 "nbformat_minor": 2
}
