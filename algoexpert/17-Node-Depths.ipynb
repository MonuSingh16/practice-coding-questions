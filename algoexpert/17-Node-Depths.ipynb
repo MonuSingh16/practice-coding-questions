{
 "cells": [
  {
   "attachments": {},
   "cell_type": "markdown",
   "metadata": {},
   "source": [
    "**Node Depths**\n",
    "\n",
    "The Distance between a node in BT and tree's root is called node's depth. Write a function that takes in a Binary tree and returms the sum of its node's depth\n",
    "\n",
    "A Binary Tree is represented by a list of nodes and a root node. Every node has to have a unique string id that will be referenced by other nodes' left and right pointers and by the root.\n",
    "\n"
   ]
  },
  {
   "cell_type": "code",
   "execution_count": 1,
   "metadata": {},
   "outputs": [
    {
     "data": {
      "text/plain": [
       "{'nodes': [{'id': '1', 'left': '2', 'right': '3', 'value': 1},\n",
       "  {'id': '2', 'left': '4', 'right': '5', 'value': 2},\n",
       "  {'id': '3', 'left': '6', 'right': '7', 'value': 3},\n",
       "  {'id': '4', 'left': '8', 'right': '9', 'value': 4},\n",
       "  {'id': '5', 'left': 'null', 'right': 'null', 'value': 5},\n",
       "  {'id': '6', 'left': 'null', 'right': 'null', 'value': 6},\n",
       "  {'id': '7', 'left': 'null', 'right': 'null', 'value': 7},\n",
       "  {'id': '8', 'left': 'null', 'right': 'null', 'value': 8},\n",
       "  {'id': '9', 'left': 'null', 'right': 'null', 'value': 9}],\n",
       " 'root': '1'}"
      ]
     },
     "execution_count": 1,
     "metadata": {},
     "output_type": "execute_result"
    }
   ],
   "source": [
    "{\n",
    "  \"nodes\": [\n",
    "    {\"id\": \"1\", \"left\": \"2\", \"right\": \"3\", \"value\": 1},\n",
    "    {\"id\": \"2\", \"left\": \"4\", \"right\": \"5\", \"value\": 2},\n",
    "    {\"id\": \"3\", \"left\": \"6\", \"right\": \"7\", \"value\": 3},\n",
    "    {\"id\": \"4\", \"left\": \"8\", \"right\": \"9\", \"value\": 4},\n",
    "    {\"id\": \"5\", \"left\": 'null', \"right\": 'null', \"value\": 5},\n",
    "    {\"id\": \"6\", \"left\": 'null', \"right\": 'null', \"value\": 6},\n",
    "    {\"id\": \"7\", \"left\": 'null', \"right\": 'null', \"value\": 7},\n",
    "    {\"id\": \"8\", \"left\": 'null', \"right\": 'null', \"value\": 8},\n",
    "    {\"id\": \"9\", \"left\": 'null', \"right\": 'null', \"value\": 9}\n",
    "  ],\n",
    "  \"root\": \"1\"\n",
    "}"
   ]
  },
  {
   "cell_type": "code",
   "execution_count": null,
   "metadata": {},
   "outputs": [],
   "source": [
    "#O(n) - T, O(h) - Space, h is height of Binary Tree\n",
    "def nodeDepths(root):\n",
    "    # Write your code here.\n",
    "    sumOfDepths = 0\n",
    "    stack = [{\"node\":root, \"depth\":0}]\n",
    "    \n",
    "    while len(stack) > 0:\n",
    "        nodeInfo = stack.pop()\n",
    "        node, depth = nodeInfo[\"node\"], nodeInfo[\"depth\"]\n",
    "        \n",
    "        if node is None:\n",
    "            continue\n",
    "        \n",
    "        sumOfDepths += depth\n",
    "        stack.append({\"node\":node.left, \"depth\":depth + 1})\n",
    "        stack.append({\"node\":node.right, \"depth\":depth + 1})\n",
    "        \n",
    "    return sumOfDepths\n",
    "\n",
    "\n",
    "# This is the class of the input binary tree.\n",
    "class BinaryTree:\n",
    "    def __init__(self, value):\n",
    "        self.value = value\n",
    "        self.left = None\n",
    "        self.right = None"
   ]
  },
  {
   "cell_type": "code",
   "execution_count": 2,
   "metadata": {},
   "outputs": [],
   "source": [
    "# O (n) - Time, n= no. of nodes and O(h) - Space\n",
    "def nodeDepths(root, depth=0):\n",
    "    # Write your code here.\n",
    "    #Handle Base case of recursion\n",
    "    if root is None:\n",
    "        return 0\n",
    "    return depth + nodeDepths(root.left, depth + 1) + nodeDepths(root.right, depth + 1)\n",
    "    \n",
    "\n",
    "\n",
    "# This is the class of the input binary tree.\n",
    "class BinaryTree:\n",
    "    def __init__(self, value):\n",
    "        self.value = value\n",
    "        self.left = None\n",
    "        self.right = None\n"
   ]
  },
  {
   "cell_type": "code",
   "execution_count": null,
   "metadata": {},
   "outputs": [],
   "source": []
  }
 ],
 "metadata": {
  "kernelspec": {
   "display_name": "venv-interviews-3.9",
   "language": "python",
   "name": "python3"
  },
  "language_info": {
   "codemirror_mode": {
    "name": "ipython",
    "version": 3
   },
   "file_extension": ".py",
   "mimetype": "text/x-python",
   "name": "python",
   "nbconvert_exporter": "python",
   "pygments_lexer": "ipython3",
   "version": "3.9.16"
  },
  "orig_nbformat": 4
 },
 "nbformat": 4,
 "nbformat_minor": 2
}
