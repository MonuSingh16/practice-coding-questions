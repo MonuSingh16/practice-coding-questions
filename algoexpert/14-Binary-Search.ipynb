{
 "cells": [
  {
   "attachments": {},
   "cell_type": "markdown",
   "metadata": {},
   "source": [
    "**Binary Search**\n",
    "\n",
    "Functin takes in an integer and use Binary Search Algorithm to determine if the target integer is contained in array and should return its index if it is, otherwise  -1"
   ]
  },
  {
   "cell_type": "code",
   "execution_count": null,
   "metadata": {},
   "outputs": [],
   "source": [
    "# O(log(n)) - Time and O(log(n)) - Space\n",
    "def binarySearch(array, target):\n",
    "    # Write your code here.\n",
    "    return binarySearchHelper(array, target, 0, len(array) - 1)\n",
    "\n",
    "def binarySearchHelper(array, target, left, right):\n",
    "    if left > right:\n",
    "        return -1\n",
    "    \n",
    "    middle = (left + right) // 2 # Round value down\n",
    "    \n",
    "    potentialMatch = array[middle]\n",
    "    if target == potentialMatch:\n",
    "        return middle\n",
    "    elif target < potentialMatch:\n",
    "        return binarySearchHelper(array, target, left, middle - 1)\n",
    "    else:\n",
    "        return binarySearchHelper(array, target, middle + 1, right)\n"
   ]
  },
  {
   "cell_type": "code",
   "execution_count": null,
   "metadata": {},
   "outputs": [],
   "source": [
    "# O(log(n)) - Time and O(1) - Space\n",
    "def binarySearch(array, target):\n",
    "    # Write your code here.\n",
    "    return binarySearchHelper(array, target, 0, len(array) - 1)\n",
    "\n",
    "def binarySearchHelper(array, target, left, right):\n",
    "    while left <= right: \n",
    "        \n",
    "        middle = (left + right) // 2 # Round value down\n",
    "        potentialMatch = array[middle]\n",
    "        \n",
    "        if target == potentialMatch:\n",
    "            return middle\n",
    "        elif target < potentialMatch:\n",
    "            right = middle - 1        \n",
    "        else:\n",
    "            left = middle + 1\n",
    "    return -1"
   ]
  }
 ],
 "metadata": {
  "kernelspec": {
   "display_name": "venv-interviews-3.9",
   "language": "python",
   "name": "python3"
  },
  "language_info": {
   "name": "python",
   "version": "3.9.16"
  },
  "orig_nbformat": 4
 },
 "nbformat": 4,
 "nbformat_minor": 2
}
