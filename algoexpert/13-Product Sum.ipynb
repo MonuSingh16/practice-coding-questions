{
 "cells": [
  {
   "attachments": {},
   "cell_type": "markdown",
   "metadata": {},
   "source": [
    "**Product Sum**\n",
    "\n",
    "Write a function that takes in an array and returns its product sum. A special array is non empty array which either contains integers or other special arrays\n",
    "\n",
    "The depth of special array is how far nested it is.\n",
    "The product sum is [x, y] is x + y\n",
    "for [x, [y, z]] is x + 2 * (y + z)\n",
    "for [x, [y, [z]]] is x + 2 * (y + 3 * z)\n",
    "\n",
    "Input - \n",
    "[5, 2, [7, -1], 3, [6, [-13, 8], 4]]"
   ]
  },
  {
   "cell_type": "code",
   "execution_count": 1,
   "metadata": {},
   "outputs": [],
   "source": [
    "# Tip: You can use the type(element) function to check whether an item\n",
    "# is a list or an integer.\n",
    "# O(n) - Time and O(d) - Space, where d is depth of largest array\n",
    "def productSum(array, multiplier = 1):\n",
    "    # Write your code here.\n",
    "    sum = 0\n",
    "    for element in array:\n",
    "        if type(element) is list:\n",
    "            sum += productSum(element, multiplier + 1)\n",
    "        else:\n",
    "            sum += element\n",
    "    return sum * multiplier "
   ]
  },
  {
   "cell_type": "code",
   "execution_count": null,
   "metadata": {},
   "outputs": [],
   "source": []
  }
 ],
 "metadata": {
  "kernelspec": {
   "display_name": "venv-interviews-3.9",
   "language": "python",
   "name": "python3"
  },
  "language_info": {
   "codemirror_mode": {
    "name": "ipython",
    "version": 3
   },
   "file_extension": ".py",
   "mimetype": "text/x-python",
   "name": "python",
   "nbconvert_exporter": "python",
   "pygments_lexer": "ipython3",
   "version": "3.9.16"
  },
  "orig_nbformat": 4
 },
 "nbformat": 4,
 "nbformat_minor": 2
}
