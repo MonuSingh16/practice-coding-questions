{
 "cells": [
  {
   "attachments": {},
   "cell_type": "markdown",
   "metadata": {},
   "source": [
    "**BST Closest Value**\n",
    "\n",
    "Function which takes a BST and a Target Value and returns the closest value to that target value contained in BST\n",
    "\n",
    "`{\n",
    "  \"nodes\": [\n",
    "    {\"id\": \"10\", \"left\": \"5\", \"right\": \"15\", \"value\": 10},\n",
    "    {\"id\": \"15\", \"left\": \"13\", \"right\": \"22\", \"value\": 15},\n",
    "    {\"id\": \"22\", \"left\": null, \"right\": null, \"value\": 22},\n",
    "    {\"id\": \"13\", \"left\": null, \"right\": \"14\", \"value\": 13},\n",
    "    {\"id\": \"14\", \"left\": null, \"right\": null, \"value\": 14},\n",
    "    {\"id\": \"5\", \"left\": \"2\", \"right\": \"5-2\", \"value\": 5},\n",
    "    {\"id\": \"5-2\", \"left\": null, \"right\": null, \"value\": 5},\n",
    "    {\"id\": \"2\", \"left\": \"1\", \"right\": null, \"value\": 2},\n",
    "    {\"id\": \"1\", \"left\": null, \"right\": null, \"value\": 1}\n",
    "  ],\n",
    "  \"root\": \"10\"\n",
    "}`"
   ]
  },
  {
   "cell_type": "code",
   "execution_count": 3,
   "metadata": {},
   "outputs": [],
   "source": [
    "def findClosestValueInBst(tree, target):\n",
    "    # Write your code here.\n",
    "    return findClosetValueBstHelper(tree, target, float('inf'))\n",
    "\n",
    "def findClosetValueBstHelper(tree, target, closest):\n",
    "    currentNode = tree\n",
    "    \n",
    "    while currentNode is not None:\n",
    "        if abs(target - closest) > abs(target - currentNode.value):\n",
    "            closest = currentNode.value\n",
    "        \n",
    "        if target < currentNode.value:\n",
    "            currentNode = currentNode.left\n",
    "            \n",
    "        elif target > currentNode.value:\n",
    "            currentNode = currentNode.right\n",
    "    \n",
    "        else:\n",
    "            break\n",
    "    return closest\n",
    "\n",
    "# This is the class of the input tree. Do not edit.\n",
    "class BST:\n",
    "    def __init__(self, value):\n",
    "        self.value = value\n",
    "        self.left = None\n",
    "        self.right = None\n"
   ]
  },
  {
   "cell_type": "code",
   "execution_count": null,
   "metadata": {},
   "outputs": [],
   "source": []
  }
 ],
 "metadata": {
  "kernelspec": {
   "display_name": "venv-interviews-3.9",
   "language": "python",
   "name": "python3"
  },
  "language_info": {
   "codemirror_mode": {
    "name": "ipython",
    "version": 3
   },
   "file_extension": ".py",
   "mimetype": "text/x-python",
   "name": "python",
   "nbconvert_exporter": "python",
   "pygments_lexer": "ipython3",
   "version": "3.9.16"
  },
  "orig_nbformat": 4
 },
 "nbformat": 4,
 "nbformat_minor": 2
}
