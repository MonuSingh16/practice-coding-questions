{
 "cells": [
  {
   "attachments": {},
   "cell_type": "markdown",
   "metadata": {},
   "source": [
    "**Graph DFS**\n",
    "\n",
    "For the purpose of this question, a graph is represented by a list of nodes and a startNode node. Every node has to have a unique string id that will be referenced by other nodes' lists of children and by the startNode. The searching function will be called on the startNode.\n",
    "\n",
    "Remember that your graph shouldn't have cycles!"
   ]
  },
  {
   "attachments": {},
   "cell_type": "markdown",
   "metadata": {},
   "source": [
    "**INPUT**"
   ]
  },
  {
   "cell_type": "code",
   "execution_count": 1,
   "metadata": {},
   "outputs": [
    {
     "data": {
      "text/plain": [
       "{'nodes': [{'children': ['B', 'C', 'D'], 'id': 'A', 'value': 'A'},\n",
       "  {'children': ['E', 'F'], 'id': 'B', 'value': 'B'},\n",
       "  {'children': [], 'id': 'C', 'value': 'C'},\n",
       "  {'children': ['G', 'H'], 'id': 'D', 'value': 'D'},\n",
       "  {'children': [], 'id': 'E', 'value': 'E'},\n",
       "  {'children': ['I', 'J'], 'id': 'F', 'value': 'F'},\n",
       "  {'children': ['K'], 'id': 'G', 'value': 'G'},\n",
       "  {'children': [], 'id': 'H', 'value': 'H'},\n",
       "  {'children': [], 'id': 'I', 'value': 'I'},\n",
       "  {'children': [], 'id': 'J', 'value': 'J'},\n",
       "  {'children': [], 'id': 'K', 'value': 'K'}],\n",
       " 'startNode': 'A'}"
      ]
     },
     "execution_count": 1,
     "metadata": {},
     "output_type": "execute_result"
    }
   ],
   "source": [
    "{\n",
    "  \"nodes\": [\n",
    "    {\"children\": [\"B\", \"C\", \"D\"], \"id\": \"A\", \"value\": \"A\"},\n",
    "    {\"children\": [\"E\", \"F\"], \"id\": \"B\", \"value\": \"B\"},\n",
    "    {\"children\": [], \"id\": \"C\", \"value\": \"C\"},\n",
    "    {\"children\": [\"G\", \"H\"], \"id\": \"D\", \"value\": \"D\"},\n",
    "    {\"children\": [], \"id\": \"E\", \"value\": \"E\"},\n",
    "    {\"children\": [\"I\", \"J\"], \"id\": \"F\", \"value\": \"F\"},\n",
    "    {\"children\": [\"K\"], \"id\": \"G\", \"value\": \"G\"},\n",
    "    {\"children\": [], \"id\": \"H\", \"value\": \"H\"},\n",
    "    {\"children\": [], \"id\": \"I\", \"value\": \"I\"},\n",
    "    {\"children\": [], \"id\": \"J\", \"value\": \"J\"},\n",
    "    {\"children\": [], \"id\": \"K\", \"value\": \"K\"}\n",
    "  ],\n",
    "  \"startNode\": \"A\"\n",
    "}"
   ]
  },
  {
   "cell_type": "code",
   "execution_count": null,
   "metadata": {},
   "outputs": [],
   "source": [
    "# Do not edit the class below except\n",
    "# for the depthFirstSearch method.\n",
    "# Feel free to add new properties\n",
    "# and methods to the class.\n",
    "class Node:\n",
    "    def __init__(self, name):\n",
    "        self.children = []\n",
    "        self.name = name\n",
    "\n",
    "    def addChild(self, name):\n",
    "        self.children.append(Node(name))\n",
    "        return self\n",
    "\n",
    "    def depthFirstSearch(self, array):\n",
    "        # Write your code here.\n",
    "        array.append(self.name)\n",
    "        for child in self.children:\n",
    "            child.depthFirstSearch(array)\n",
    "        return array\n"
   ]
  }
 ],
 "metadata": {
  "kernelspec": {
   "display_name": "venv-interviews-3.9",
   "language": "python",
   "name": "python3"
  },
  "language_info": {
   "codemirror_mode": {
    "name": "ipython",
    "version": 3
   },
   "file_extension": ".py",
   "mimetype": "text/x-python",
   "name": "python",
   "nbconvert_exporter": "python",
   "pygments_lexer": "ipython3",
   "version": "3.9.16"
  },
  "orig_nbformat": 4
 },
 "nbformat": 4,
 "nbformat_minor": 2
}
