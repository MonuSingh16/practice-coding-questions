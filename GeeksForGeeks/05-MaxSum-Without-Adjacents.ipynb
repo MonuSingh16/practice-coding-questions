{
 "cells": [
  {
   "attachments": {},
   "cell_type": "markdown",
   "metadata": {},
   "source": [
    "**Question**\n",
    "\n",
    "Given an array Arr of size N containing positive integers. Find the maximum sum of a subsequence such that no two numbers in the sequence should be adjacent in the array.\n",
    "\n",
    "Input:\n",
    "\n",
    "N = 6\n",
    "Arr[] = {5, 5, 10, 100, 10, 5}\n",
    "\n",
    "Output: 110\n",
    "\n",
    "Explanation: If you take indices 0, 3\n",
    "and 5, then Arr[0]+Arr[3]+Arr[5] =\n",
    "5+100+5 = 110.\n",
    "\n",
    "\n",
    "You don't need to read input or print anything. Your task is to complete the function findMaxSum() which takes the array of integers arr and n as parameters and returns an integer denoting the answer. It is guaranteed that your answer will always fit in the 32-bit integer.\n",
    "\n"
   ]
  },
  {
   "attachments": {},
   "cell_type": "markdown",
   "metadata": {},
   "source": [
    "**Solution**\n",
    "Tackle some basic cases, if the length of the array is 0, print 0, if the length of the array is 1, print the first element, if the length of the array is 2, print the maximum of two elements.\n",
    "Create two variables value1 and value2 value1 as array[0] and value2 as the maximum of array[0] and array[1] and a variable max_val to store the answer.\n",
    "Traverse the array from the second element to the end of the array.\n",
    "For every index, update max_val as the maximum of value1 + array[i] and value2, this step defines the two cases, if an element is selected then the previous element cannot be selected and if an element is not selected then the previous element can be selected.\n",
    "For every index, Update value1 = value2 and value2 = max_val.\n",
    "Print the value of max_val.\n",
    "\n"
   ]
  },
  {
   "cell_type": "code",
   "execution_count": 1,
   "metadata": {},
   "outputs": [],
   "source": [
    "class Solution:\n",
    "    \n",
    "    def findMaxSum(self,arr, n):\n",
    "        # code here\n",
    "        dp = [0]*n\n",
    "        if n == 1:\n",
    "            return arr[0]\n",
    "        dp[0] = arr[0]\n",
    "        dp[1] = max(arr[0], arr[1])\n",
    "        for i in range(2, n):\n",
    "            dp[i] = max(dp[i-1], dp[i-2]+arr[i])\n",
    "        return dp[n-1]\n"
   ]
  }
 ],
 "metadata": {
  "kernelspec": {
   "display_name": "venv-interviews-3.9",
   "language": "python",
   "name": "python3"
  },
  "language_info": {
   "codemirror_mode": {
    "name": "ipython",
    "version": 3
   },
   "file_extension": ".py",
   "mimetype": "text/x-python",
   "name": "python",
   "nbconvert_exporter": "python",
   "pygments_lexer": "ipython3",
   "version": "3.9.16"
  },
  "orig_nbformat": 4
 },
 "nbformat": 4,
 "nbformat_minor": 2
}
