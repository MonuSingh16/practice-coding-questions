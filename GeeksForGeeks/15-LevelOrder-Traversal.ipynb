{
 "cells": [
  {
   "attachments": {},
   "cell_type": "markdown",
   "metadata": {},
   "source": [
    "**Question**\n",
    "\n",
    "Complete the function to find spiral order traversal of a tree. For below tree, function should return 1, 2, 3, 4, 5, 6, 7.\n",
    "\n",
    "The task is to complete the function findSpiral() which takes root node as input parameter and returns the elements in spiral form of level order traversal as a list. The newline is automatically appended by the driver code.\n",
    "\n"
   ]
  },
  {
   "attachments": {},
   "cell_type": "markdown",
   "metadata": {},
   "source": [
    "**Method 1 (Recursive)** \n",
    "\n",
    "This problem can be seen as an extension of the level order traversal post. \n",
    "To print the nodes in spiral order, nodes at different levels should be printed in alternating order. An additional Boolean variable ltr is used to change printing order of levels. If ltr is 1 then printGivenLevel() prints nodes from left to right else from right to left. Value of ltr is flipped in each iteration to change the order.\n",
    "Function to print level order traversal of tree "
   ]
  },
  {
   "cell_type": "code",
   "execution_count": 1,
   "metadata": {},
   "outputs": [],
   "source": [
    "#Function to find the height of the tree.\n",
    "def getHeight(root):\n",
    "    \n",
    "    #base case for recursion.\n",
    "    if root is None:\n",
    "        return 0\n",
    "    \n",
    "    #finding height of left subtree recursively.\n",
    "    lh = getHeight(root.left)\n",
    "    \n",
    "    #finding height of right subtree recursively.\n",
    "    rh = getHeight(root.right)\n",
    "    \n",
    "    #taking the maximum as height of tree.\n",
    "    if lh>rh:\n",
    "        return lh+1\n",
    "    else:\n",
    "        return rh+1\n",
    "\n",
    "\n",
    "#Function to do level order traversal of tree in spiral form.\n",
    "def printLevel(result,node, lvl, flg):\n",
    "    \n",
    "    #base case for recursion.\n",
    "    if node is None:\n",
    "        return\n",
    "    \n",
    "    #if level is 1, we push the data in the list.\n",
    "    if lvl==1:\n",
    "        result.append(node.data)\n",
    "    \n",
    "    elif(lvl > 1):\n",
    "        \n",
    "        #if flg is true, we call the spiral function recursively for the\n",
    "        #left subtrees first and then for right subtrees.\n",
    "        if flg:\n",
    "            printLevel(result,node.left, lvl-1, flg)\n",
    "            printLevel(result,node.right, lvl-1, flg)\n",
    "        \n",
    "        #else we call for right subtrees first and then left subtrees.\n",
    "        else:\n",
    "            printLevel(result,node.right, lvl-1, flg)\n",
    "            printLevel(result,node.left, lvl-1, flg)\n",
    "\n",
    "#Function to return a list containing the level order traversal in spiral form.\n",
    "def findSpiral(root):\n",
    "\n",
    "    result = []\n",
    "    if root is None:\n",
    "        return result\n",
    "    h = getHeight(root)\n",
    "    ltr = False\n",
    "    #for each level, we do the spiral traversal.\n",
    "    for i in range(1, h+1):\n",
    "        printLevel(result,root, i, ltr)\n",
    "        ltr = not ltr\n",
    "        \n",
    "    #returning the list.\n",
    "    return result"
   ]
  },
  {
   "cell_type": "code",
   "execution_count": null,
   "metadata": {},
   "outputs": [],
   "source": []
  }
 ],
 "metadata": {
  "kernelspec": {
   "display_name": "venv-interviews-3.9",
   "language": "python",
   "name": "python3"
  },
  "language_info": {
   "codemirror_mode": {
    "name": "ipython",
    "version": 3
   },
   "file_extension": ".py",
   "mimetype": "text/x-python",
   "name": "python",
   "nbconvert_exporter": "python",
   "pygments_lexer": "ipython3",
   "version": "3.9.16"
  },
  "orig_nbformat": 4
 },
 "nbformat": 4,
 "nbformat_minor": 2
}
