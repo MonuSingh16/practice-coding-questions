{
 "cells": [
  {
   "attachments": {},
   "cell_type": "markdown",
   "metadata": {},
   "source": [
    "**Question**\n",
    "\n",
    "Given an array of N positive integers, print k largest elements from the array. \n",
    "\n",
    "Complete the function kLargest() that takes the array, N and K as input parameters and returns a list of k largest element in descending order. \n",
    "\n",
    "Expected Time Complexity: O(N log K)\n",
    "Expected Auxiliary Space: O(K)\n",
    "\n",
    "Constraints:\n",
    "1 ≤ N ≤ 104\n",
    "K ≤ N\n",
    "1 ≤ array[i] ≤ 105\n",
    "\n"
   ]
  },
  {
   "attachments": {},
   "cell_type": "markdown",
   "metadata": {},
   "source": [
    "**Solution**\n",
    "The brute force solution would involve sorting the entire array and then returning the last k elements of the sorted array. \n",
    "\n",
    "Implementation:\n",
    "1. Sort the given array so that we can have the elements in an order .\n",
    "2. Reverse the sorted array as we need to deal with larger elements first.\n",
    "3. Create an empty vector named 'v'\n",
    "4. Iterate through the first 'k' elements of the reversed array and push them into the vector 'v' using the push_back function.\n",
    "Return the vector 'v'."
   ]
  },
  {
   "cell_type": "code",
   "execution_count": 1,
   "metadata": {},
   "outputs": [],
   "source": [
    "class Solution:\n",
    "    #Function to return k largest elements from an array.\n",
    "    def kLargest(self,li,n,k):\n",
    "        # code here\n",
    "        li.sort(reverse=True)\n",
    "        return li[:k]"
   ]
  }
 ],
 "metadata": {
  "kernelspec": {
   "display_name": "venv-interviews-3.9",
   "language": "python",
   "name": "python3"
  },
  "language_info": {
   "codemirror_mode": {
    "name": "ipython",
    "version": 3
   },
   "file_extension": ".py",
   "mimetype": "text/x-python",
   "name": "python",
   "nbconvert_exporter": "python",
   "pygments_lexer": "ipython3",
   "version": "3.9.16"
  },
  "orig_nbformat": 4
 },
 "nbformat": 4,
 "nbformat_minor": 2
}
