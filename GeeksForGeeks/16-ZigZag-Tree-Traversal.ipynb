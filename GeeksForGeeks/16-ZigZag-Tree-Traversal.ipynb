{
 "cells": [
  {
   "attachments": {},
   "cell_type": "markdown",
   "metadata": {},
   "source": [
    "**Question**\n",
    "\n",
    "Given a Binary Tree. Find the Zig-Zag Level Order Traversal of the Binary Tree."
   ]
  },
  {
   "attachments": {},
   "cell_type": "markdown",
   "metadata": {},
   "source": [
    "**Intuition**\n",
    "\n",
    "The idea is to use two stacks to store the order in which the nodes are to be visited in current level and in the next level, if current level is left to right then push nodes in next level from left to right because stack is LIFO (Last-In-First-Out) data structure.\n",
    "\n",
    "**Implementation**\n",
    "\n",
    "- If null then return,\n",
    "- Declare two stacks 'currentLevel' and 'nextLevel' to store the nodes.\n",
    "- We also declare variable 'lefttoright' to keep track of the current level order(whether it is left to right or right to left).\n",
    "- Push the root into the currentLevel stack\n",
    "    - Check if currentLevel is not empty,\n",
    "        - Storing the top element of currentlevel stack in temp and popping it.\n",
    "        - If temp is not null, we store the data at temp in list that store the zig-zag traversal.\n",
    "        - If lefttoright is true then it stores nodes from left to right else from right to left in nextlevel stack as stack is LIFO so when popped it would come out as right to left.\n",
    "        - Again check if currentlevel stack is empty lefttoright is flipped to change the order of storing the nodes and both stacks are swapped.\n",
    "    - Repeat this process untill all the levels are traversed,\n",
    "- Return the list storing the traversal. \n"
   ]
  },
  {
   "cell_type": "code",
   "execution_count": 1,
   "metadata": {},
   "outputs": [],
   "source": [
    "class Solution:\n",
    "    #Function to store the zig zag order traversal of tree in a list.\n",
    "    def zigZagTraversal(self, root):\n",
    " \n",
    "        res = []\n",
    "        #if root is null, we return the list.\n",
    "        if root is None:\n",
    "            return res\n",
    " \n",
    "        #declaring two stacks to store the current and new level.\n",
    "        currentLevel = []\n",
    "        nextLevel = []\n",
    "\n",
    "        ltr = True\n",
    " \n",
    "        #pushing the root in currentlevel stack.\n",
    "        currentLevel.append(root)\n",
    " \n",
    "        while len(currentLevel) > 0:\n",
    "            \n",
    "            #storing the top element of currentlevel stack in temp and popping it.\n",
    "            temp = currentLevel.pop(-1)\n",
    "       \n",
    "            #if temp is not null, we store the data at temp in list.\n",
    "            res.append(temp.data)\n",
    " \n",
    "            #if lefttoright is true then it stores nodes from left to right \n",
    "\t\t    #else from right to left in nextlevel stack.\n",
    "            if ltr:\n",
    "                if temp.left:\n",
    "                    nextLevel.append(temp.left)\n",
    "                if temp.right:\n",
    "                    nextLevel.append(temp.right)\n",
    "            else:\n",
    "                if temp.right:\n",
    "                    nextLevel.append(temp.right)\n",
    "                if temp.left:\n",
    "                    nextLevel.append(temp.left)\n",
    " \n",
    "            #if currentlevel stack is empty ltr is flipped to change \n",
    "\t\t    #the order of storing the nodes and both stacks are swapped.\n",
    "            if len(currentLevel) == 0:\n",
    "            \n",
    "                ltr = not ltr\n",
    "                currentLevel, nextLevel = nextLevel, currentLevel\n",
    "    \n",
    "        #returning the list.    \n",
    "        return res \n",
    "        "
   ]
  },
  {
   "cell_type": "code",
   "execution_count": null,
   "metadata": {},
   "outputs": [],
   "source": []
  }
 ],
 "metadata": {
  "kernelspec": {
   "display_name": "venv-interviews-3.9",
   "language": "python",
   "name": "python3"
  },
  "language_info": {
   "codemirror_mode": {
    "name": "ipython",
    "version": 3
   },
   "file_extension": ".py",
   "mimetype": "text/x-python",
   "name": "python",
   "nbconvert_exporter": "python",
   "pygments_lexer": "ipython3",
   "version": "3.9.16"
  },
  "orig_nbformat": 4
 },
 "nbformat": 4,
 "nbformat_minor": 2
}
