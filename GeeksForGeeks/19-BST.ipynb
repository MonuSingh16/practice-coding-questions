{
 "cells": [
  {
   "attachments": {},
   "cell_type": "markdown",
   "metadata": {},
   "source": [
    "**Question**\n",
    "\n",
    "Given the root of a binary tree. Check whether it is a BST or not.\n",
    "Note: We are considering that BSTs can not contain duplicate Nodes.\n",
    "A BST is defined as follows:\n",
    "\n",
    "- The left subtree of a node contains only nodes with keys less than the node's key.\n",
    "- The right subtree of a node contains only nodes with keys greater than the node's key.\n",
    "- Both the left and right subtrees must also be binary search trees.\n"
   ]
  },
  {
   "attachments": {},
   "cell_type": "markdown",
   "metadata": {},
   "source": [
    "**Intuition**\n",
    "\n",
    "Since BST has a property that left child will have a value less than the root value and right one will have value greater than root value hence the , Inorder traversal of tree should be sorted. By using this technique ,  we can check whether a tree is a BST or not.\n",
    "\n",
    "**Implementation**\n",
    "\n",
    "- Do In-Order Traversal of the given tree and store the result in a temp array. \n",
    "- This method assumes that there are no duplicate values in the tree.\n",
    "- Check if the temp array is sorted in ascending order, if it is, then the tree is BST.\n",
    "\n",
    "\n",
    "We can avoid the use of a Auxiliary Array. While doing In-Order traversal, we can keep track of previously visited node. If the value of the currently visited node is less than the previous value, then tree is not BST."
   ]
  },
  {
   "cell_type": "code",
   "execution_count": 1,
   "metadata": {},
   "outputs": [],
   "source": [
    "class Solution:    \n",
    "    \n",
    "    INT_MAX = 4294967296\n",
    "    INT_MIN = -4294967296\n",
    "    \n",
    "    #Function to check whether a Binary Tree is BST or not.\n",
    "    def isBST(self,node): \n",
    "        return (self.isBSTUtil(node, self.INT_MIN, self.INT_MAX)) \n",
    "      \n",
    "    def isBSTUtil(self,node, mini, maxi): \n",
    "          \n",
    "        #an empty tree is BST so we return true.\n",
    "        if node is None: \n",
    "            return True\n",
    "      \n",
    "        #returning false if this node violates the min/max constraint.\n",
    "        if node.data < mini or node.data > maxi: \n",
    "            return False\n",
    "      \n",
    "        #otherwise checking the subtrees recursively.\n",
    "        #tightening the min or max constraint.\n",
    "        return (self.isBSTUtil(node.left, mini, node.data -1) and\n",
    "              self.isBSTUtil(node.right, node.data+1, maxi)) "
   ]
  },
  {
   "cell_type": "code",
   "execution_count": null,
   "metadata": {},
   "outputs": [],
   "source": []
  }
 ],
 "metadata": {
  "kernelspec": {
   "display_name": "venv-interviews-3.9",
   "language": "python",
   "name": "python3"
  },
  "language_info": {
   "codemirror_mode": {
    "name": "ipython",
    "version": 3
   },
   "file_extension": ".py",
   "mimetype": "text/x-python",
   "name": "python",
   "nbconvert_exporter": "python",
   "pygments_lexer": "ipython3",
   "version": "3.9.16"
  },
  "orig_nbformat": 4
 },
 "nbformat": 4,
 "nbformat_minor": 2
}
