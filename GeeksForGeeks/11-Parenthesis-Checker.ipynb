{
 "cells": [
  {
   "attachments": {},
   "cell_type": "markdown",
   "metadata": {},
   "source": [
    "**Question**\n",
    "\n",
    "Given an expression string x. Examine whether the pairs and the orders of {,},(,),[,] are correct in exp.\n",
    "For example, the function should return 'true' for exp = [()]{}{[()()]()} and 'false' for exp = [(]).\n",
    "\n",
    "Note: The drive code prints \"balanced\" if function return true, otherwise it prints \"not balanced\".\n",
    "\n"
   ]
  },
  {
   "attachments": {},
   "cell_type": "markdown",
   "metadata": {},
   "source": [
    "**Approach:**\n",
    "\n",
    "The idea is to put all the opening brackets in the stack and whenever you hit a closing bracket. Search if the top of the stack is the opening bracket of the same nature. If this holds then pop the stack and continue the iteration , in the end if the stack is empty, it means all brackets are well-formed and return  Balanced , else return Not Balanced.\n",
    "\n",
    "Follow the steps mentioned below to implement the idea:\n",
    "\n",
    "1. Declare a character stack temp.\n",
    "2. Now traverse the string exp. \n",
    "    1. If the current character is a starting bracket ( ( or {  or [ ) then push it to stack.\n",
    "    2. If the current character is a closing bracket ( ) or  }  or ] ) then pop from stack and if the popped character is the matching starting bracket then fine else brackets are Not Balanced.\n",
    "3. After complete traversal, if there is some starting bracket left in stack then Not balanced , else Balanced.\n"
   ]
  },
  {
   "cell_type": "code",
   "execution_count": 1,
   "metadata": {},
   "outputs": [],
   "source": [
    "class Solution:\n",
    "    \n",
    "    #Function to check if brackets are balanced or not.\n",
    "    def ispar(self,s):\n",
    "        \n",
    "        stack = [] \n",
    "    \n",
    "        #iterating over the string.\n",
    "        for char in s:\n",
    "            \n",
    "            #if opening bracket is encountered, we push it into stack.\n",
    "            if char in ['{','[','('] : \n",
    "                stack.append(char) \n",
    "            \n",
    "            #if closing bracket is encountered, we compare it with top of stack.\n",
    "            else:       \n",
    "                \n",
    "                if len(stack) == 0: \n",
    "                    return False\n",
    "                \n",
    "                #if top of stack has opening bracket of same type, we pop the\n",
    "                #top element continue iterating else we return false.\n",
    "    \n",
    "                if char == '}':\n",
    "                    if stack[-1] == '{':\n",
    "                        stack.pop()\n",
    "                        continue\n",
    "                if char == ')':\n",
    "                    if stack[-1] == '(':\n",
    "                        stack.pop()\n",
    "                        continue\n",
    "                if char == ']':\n",
    "                    if stack[-1] == '[':\n",
    "                        stack.pop()\n",
    "                        continue\n",
    "                return False  \n",
    "        \n",
    "        #if stack becomes empty, we return true else false.       \n",
    "        if len(stack): \n",
    "            return False\n",
    "        return True\n",
    "        \n",
    "        "
   ]
  },
  {
   "cell_type": "code",
   "execution_count": 2,
   "metadata": {},
   "outputs": [
    {
     "name": "stdout",
     "output_type": "stream",
     "text": [
      "Balanced\n"
     ]
    }
   ],
   "source": [
    "def areBracketsBalanced(expr):\n",
    "    stack = []\n",
    "\n",
    "    # Traversing the Expression\n",
    "    for char in expr:\n",
    "        if char in [\"(\", \"{\", \"[\"]:\n",
    "\n",
    "            # Push the element in the stack\n",
    "            stack.append(char)\n",
    "        else:\n",
    "\n",
    "            # IF current character is not opening\n",
    "            # bracket, then it must be closing.\n",
    "            # So stack cannot be empty at this point.\n",
    "            if not stack:\n",
    "                return False\n",
    "            current_char = stack.pop()\n",
    "            if current_char == '(':\n",
    "                if char != \")\":\n",
    "                    return False\n",
    "            if current_char == '{':\n",
    "                if char != \"}\":\n",
    "                    return False\n",
    "            if current_char == '[':\n",
    "                if char != \"]\":\n",
    "                    return False\n",
    "\n",
    "    # Check Empty Stack\n",
    "    if stack:\n",
    "        return False\n",
    "    return True\n",
    "\n",
    "\n",
    "# Driver Code\n",
    "if __name__ == \"__main__\":\n",
    "    expr = \"{()}[]\"\n",
    "\n",
    "    # Function call\n",
    "    if areBracketsBalanced(expr):\n",
    "        print(\"Balanced\")\n",
    "    else:\n",
    "        print(\"Not Balanced\")\n"
   ]
  },
  {
   "cell_type": "code",
   "execution_count": null,
   "metadata": {},
   "outputs": [],
   "source": []
  }
 ],
 "metadata": {
  "kernelspec": {
   "display_name": "venv-interviews-3.9",
   "language": "python",
   "name": "python3"
  },
  "language_info": {
   "codemirror_mode": {
    "name": "ipython",
    "version": 3
   },
   "file_extension": ".py",
   "mimetype": "text/x-python",
   "name": "python",
   "nbconvert_exporter": "python",
   "pygments_lexer": "ipython3",
   "version": "3.9.16"
  },
  "orig_nbformat": 4
 },
 "nbformat": 4,
 "nbformat_minor": 2
}
