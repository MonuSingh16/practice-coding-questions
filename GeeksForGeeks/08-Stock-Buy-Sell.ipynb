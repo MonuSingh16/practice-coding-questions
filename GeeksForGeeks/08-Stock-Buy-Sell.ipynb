{
 "cells": [
  {
   "attachments": {},
   "cell_type": "markdown",
   "metadata": {},
   "source": [
    "**Questions**\n",
    "\n",
    "The cost of stock on each day is given in an array A[] of size N. Find all the segments of days on which you buy and sell the stock so that in between those days for which profit can be generated.\n",
    "Note: Since there can be multiple solutions, the driver code will print 1 if your answer is correct, otherwise, it will return 0. In case there's no profit the driver code will print the string \"No Profit\" for a correct solution.\n",
    "\n",
    "\n",
    "Input:\n",
    "N = 7\n",
    "A[] = {100,180,260,310,40,535,695}\n",
    "\n",
    "Output:\n",
    "1\n",
    "\n",
    "Explanation:\n",
    "One possible solution is (0 3) (4 6)\n",
    "We can buy stock on day 0,\n",
    "and sell it on 3rd day, which will \n",
    "give us maximum profit. Now, we buy \n",
    "stock on day 4 and sell it on day 6.\n"
   ]
  },
  {
   "attachments": {},
   "cell_type": "markdown",
   "metadata": {},
   "source": [
    "**Solutions**\n",
    "\n",
    "1. Create an empty vector to store the answer.\n",
    "2. Run a loop over the array\n",
    "3. Find the local minima by comparing the i+1 element with i th element and store them as starting index. If it does not exist (i.e if reaches the end of the array) then return the answer.\n",
    "5. Find the local maxima by comparing i+1 element with ith element. And store it as an ending index. If we reach the end, set the end as the ending index.\n",
    "6. Update the solution (store the starting and ending index in the answer)\n",
    "7. Repeat the above steps if the end is not reached."
   ]
  },
  {
   "cell_type": "code",
   "execution_count": 1,
   "metadata": {},
   "outputs": [],
   "source": [
    "class Solution:\n",
    "    #Function to find the days of buying and selling stock for max profit.\n",
    "\tdef stockBuySell(self, A, n):\n",
    "\t\tresult = []\n",
    "\t\t#Prices must be given for at least two days else return the empty result.\n",
    "\t\tif(n==1):\n",
    "\t\t\treturn result\n",
    "\t\ti=0\n",
    "\t\tcnt=0\n",
    "\t\t#Traversing through given price array.\n",
    "\t\twhile(i<n-1):\n",
    "\t\t\t#Finding Local Minima. Note that the limit of loop is (n-2)\n",
    "            #as we are comparing present element to the next element.\n",
    "\t\t\twhile((i<n-1) and (A[i+1]<=A[i])):\n",
    "\t\t\t\ti=i+1\n",
    "\n",
    "\t\t\t#If we reach the end, we break the loop as no further\n",
    "\t\t\t#solution is possible.\n",
    "\t\t\tif(i==n-1):\n",
    "\t\t\t\tbreak\n",
    "\t\t\t\t\n",
    "\t\t\t # e[0] denotes buy , e[1] denotes sell\t\n",
    "\t\t\te=[0,0] \n",
    "\t\t\t#Storing the index of minima which gives the day of buying stock.\n",
    "\t\t\te[0]=i\n",
    "\t\t\ti=i+1\n",
    "\n",
    "\t\t\t#Finding Local Maxima. Note that the limit of loop is (n-1)\n",
    "            #as we are comparing present element to previous element.\n",
    "\t\t\twhile((i<n) and A[i]>=A[i-1]):\n",
    "\t\t\t\ti=i+1\n",
    "\t\t\t#Storing the index of maxima which gives the day of selling stock.\n",
    "\t\t\te[1]=i-1\n",
    "\t\t\t\n",
    "\t\t\t#Storing the buy/sell pairs in a list.\n",
    "\t\t\tresult.append([e[0],e[1]])\n",
    "\n",
    "\t\t\t#Incrementing count of buy/sell pairs.\n",
    "\t\t\tcnt=cnt+1\n",
    "\t\tif(cnt==0):\n",
    "\t\t\treturn []\n",
    "\t\telse:\n",
    "\t\t    #returning the result.\n",
    "\t\t\treturn result"
   ]
  },
  {
   "cell_type": "code",
   "execution_count": null,
   "metadata": {},
   "outputs": [],
   "source": []
  }
 ],
 "metadata": {
  "kernelspec": {
   "display_name": "venv-interviews-3.9",
   "language": "python",
   "name": "python3"
  },
  "language_info": {
   "codemirror_mode": {
    "name": "ipython",
    "version": 3
   },
   "file_extension": ".py",
   "mimetype": "text/x-python",
   "name": "python",
   "nbconvert_exporter": "python",
   "pygments_lexer": "ipython3",
   "version": "3.9.16"
  },
  "orig_nbformat": 4
 },
 "nbformat": 4,
 "nbformat_minor": 2
}
