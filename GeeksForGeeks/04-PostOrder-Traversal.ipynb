{
 "cells": [
  {
   "attachments": {},
   "cell_type": "markdown",
   "metadata": {},
   "source": [
    "**Question**\n",
    "\n",
    "Given a binary tree, find the Postorder Traversal of it.\n",
    "For Example, the postorder traversal of the following tree is:\n",
    "5 10 39 1\n",
    "\n",
    "You don't need to read input or print anything. Your task is to complete the function postOrder() that takes root node as input and returns an array containing the postorder traversal of the given Binary Tree.\n",
    "\n"
   ]
  },
  {
   "attachments": {},
   "cell_type": "markdown",
   "metadata": {},
   "source": [
    "**Solution**\n",
    "The main idea is to use recursion and first recursively call the left subtree and then recursively call the right subtree of root node and then store it in a vector,\n",
    "\n",
    "Implementation\n",
    "Steps:-\n",
    "\n",
    "1. Create a vector to store the answer.\n",
    "2. Create a function name posotrder for recursive calls of left and right subtree.\n",
    "3. In the function first check if node is null it means their no child possible for this node then return.\n",
    "4. Traverse the left subtree by calling the postorder function recursively.\n",
    "5. Traverse the right subtree by calling the postorder function recursively.\n",
    "6. Then push the data of node into the answer vector.\n",
    "7. Call the postOrder function from the main function passing the parameter root and answer vector with reference (for optimization of time complexity)"
   ]
  },
  {
   "cell_type": "code",
   "execution_count": 1,
   "metadata": {},
   "outputs": [],
   "source": [
    "#Back-end complete function Template for Python 3\n",
    "\n",
    "#Function to find the postorder traversal of the tree.\n",
    "def postOrderUtil(root, res):\n",
    "    \n",
    "    #postorder traversal works on Left Right Root.\n",
    "          \n",
    "    #if root is null then we simply return.\n",
    "    if root is None:\n",
    "        return\n",
    "    \n",
    "    #first, we call the recursive function for left subtree.\n",
    "    postOrderUtil(root.left, res) \n",
    "    #then we call the recursive function for right subtree.\n",
    "    postOrderUtil(root.right, res)\n",
    "    #then we store the data at root in a list.\n",
    "    res.append (root.data)\n",
    "\n",
    "\n",
    "#Function to return a list containing the postorder traversal of the tree.\n",
    "def postOrder(root):\n",
    "    res = []\n",
    "    postOrderUtil (root, res)\n",
    "    #returning the list.\n",
    "    return res"
   ]
  },
  {
   "cell_type": "code",
   "execution_count": null,
   "metadata": {},
   "outputs": [],
   "source": []
  }
 ],
 "metadata": {
  "kernelspec": {
   "display_name": "venv-interviews-3.9",
   "language": "python",
   "name": "python3"
  },
  "language_info": {
   "codemirror_mode": {
    "name": "ipython",
    "version": 3
   },
   "file_extension": ".py",
   "mimetype": "text/x-python",
   "name": "python",
   "nbconvert_exporter": "python",
   "pygments_lexer": "ipython3",
   "version": "3.9.16"
  },
  "orig_nbformat": 4
 },
 "nbformat": 4,
 "nbformat_minor": 2
}
