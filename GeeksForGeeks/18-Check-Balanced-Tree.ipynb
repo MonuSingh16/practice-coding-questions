{
 "cells": [
  {
   "attachments": {},
   "cell_type": "markdown",
   "metadata": {},
   "source": [
    "**Question**\n",
    "\n",
    "Given a binary tree, find if it is height balanced or not. \n",
    "A tree is height balanced if difference between heights of left and right subtrees is not more than one for all nodes of tree. \n",
    "\n",
    "\n",
    "You don't need to take input. Just complete the function isBalanced() that takes root node as parameter and returns true, if the tree is balanced else returns false.\n",
    "\n"
   ]
  },
  {
   "attachments": {},
   "cell_type": "markdown",
   "metadata": {},
   "source": [
    "A height balanced binary tree is a binary tree in which the height of the left subtree and right subtree of any node does not differ by more than 1 and both the left and right subtree are also height balanced.\n",
    "\n",
    "In this article, we will look into methods on how to determine if given Binary trees are height-balanced\n",
    "\n",
    "Examples: The tree on the left is a height balanced binary tree. Whereas the tree on the right is not a height balanced tree. Because the left subtree of the root has a height which is 2 more than the height of the right subtree."
   ]
  },
  {
   "cell_type": "code",
   "execution_count": 3,
   "metadata": {},
   "outputs": [],
   "source": [
    "class Height: \n",
    "    def __init__(self): \n",
    "        self.height = 0\n",
    "\n",
    "#Function to check for balanced tree.\n",
    "def isBalancedUtil(root, height): \n",
    "      \n",
    "    lh = Height() \n",
    "    rh = Height() \n",
    "  \n",
    "    #if root is null, we return true.\n",
    "    if root is None: \n",
    "        return True\n",
    "  \n",
    "    #calling the function isBalancedUtil recursively for the heights of left \n",
    "    #and right subtrees and storing the returned values in l and r.\n",
    "    l = isBalancedUtil(root.left, lh) \n",
    "    r = isBalancedUtil(root.right, rh) \n",
    "  \n",
    "    #height of current node is (max of heights of left and right subtrees) +1.\n",
    "    height.height = max(lh.height, rh.height) + 1\n",
    "  \n",
    "    #if difference between heights of left and right subtrees is 2 or more \n",
    "    #than 2 then this node is not balanced so we return false.\n",
    "    if abs(lh.height - rh.height) >= 2: \n",
    "        return False  \n",
    "  \n",
    "    #if this node is balanced and left and right subtrees are balanced \n",
    "    #then we return true.\n",
    "    else:\n",
    "        return l and r\n",
    "\n",
    "class Solution: \n",
    "    #Function to check whether a binary tree is balanced or not.   \n",
    "    def isBalanced(self,root):\n",
    "        height = Height() \n",
    "        return isBalancedUtil(root,height)"
   ]
  },
  {
   "cell_type": "code",
   "execution_count": null,
   "metadata": {},
   "outputs": [],
   "source": []
  }
 ],
 "metadata": {
  "kernelspec": {
   "display_name": "venv-interviews-3.9",
   "language": "python",
   "name": "python3"
  },
  "language_info": {
   "codemirror_mode": {
    "name": "ipython",
    "version": 3
   },
   "file_extension": ".py",
   "mimetype": "text/x-python",
   "name": "python",
   "nbconvert_exporter": "python",
   "pygments_lexer": "ipython3",
   "version": "3.9.16"
  },
  "orig_nbformat": 4
 },
 "nbformat": 4,
 "nbformat_minor": 2
}
