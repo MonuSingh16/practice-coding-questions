{
 "cells": [
  {
   "attachments": {},
   "cell_type": "markdown",
   "metadata": {},
   "source": [
    "**Question**\n",
    "\n",
    "Given a Binary Tree, convert it into its mirror.\n",
    "\n",
    "Just complete the function mirror() that takes node as paramter  and convert it into its mirror. The printing is done by the driver code only.\n",
    "\n"
   ]
  },
  {
   "attachments": {},
   "cell_type": "markdown",
   "metadata": {},
   "source": [
    "**Intuition:**\n",
    "\n",
    "Mirror of a Binary Tree T is another Binary Tree M(T) with left and right children of all non-leaf nodes interchanged. Its very easy to use the idea of swapping for the above purpose. We can traverse the tree and keep swapping the left and right children.\n",
    "\n",
    "**Implementation:**\n",
    "- Call Mirror function for left-subtree i.e., Mirror(left-subtree)\n",
    "- Call Mirror function for right-subtree i.e., Mirror(right-subtree)\n",
    "- Swap left and right subtrees. "
   ]
  },
  {
   "cell_type": "code",
   "execution_count": 1,
   "metadata": {},
   "outputs": [],
   "source": [
    "class Solution:\n",
    "    #Function to convert a binary tree into its mirror tree.\n",
    "    def mirror(self,node):\n",
    "    \tif node is None:\n",
    "    \t\treturn\n",
    "    \t\t\n",
    "    \t#calling mirror function recursively for left and right subtrees.\n",
    "    \tself.mirror(node.left)\n",
    "    \tself.mirror(node.right)\n",
    "    \t\t\n",
    "    \t#swapping the left and right subtree.\n",
    "    \ttemp = node.left\n",
    "    \tnode.left = node.right\n",
    "    \tnode.right = temp"
   ]
  },
  {
   "cell_type": "code",
   "execution_count": null,
   "metadata": {},
   "outputs": [],
   "source": []
  }
 ],
 "metadata": {
  "kernelspec": {
   "display_name": "venv-interviews-3.9",
   "language": "python",
   "name": "python3"
  },
  "language_info": {
   "codemirror_mode": {
    "name": "ipython",
    "version": 3
   },
   "file_extension": ".py",
   "mimetype": "text/x-python",
   "name": "python",
   "nbconvert_exporter": "python",
   "pygments_lexer": "ipython3",
   "version": "3.9.16"
  },
  "orig_nbformat": 4
 },
 "nbformat": 4,
 "nbformat_minor": 2
}
