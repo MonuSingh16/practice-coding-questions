{
 "cells": [
  {
   "attachments": {},
   "cell_type": "markdown",
   "metadata": {},
   "source": [
    "**Question**\n",
    "\n",
    "Given a string and a string dictionary, find the longest string in the dictionary that can be formed by deleting some characters of the given string. If there are more than one possible results, return the longest word with the smallest lexicographical order. If there is no possible result, return the empty string.\n"
   ]
  },
  {
   "cell_type": "code",
   "execution_count": 1,
   "metadata": {},
   "outputs": [],
   "source": [
    "class Solution:\n",
    "    def isSubSequence(self, str1, str2):\n",
    "     \n",
    "        m = len(str1);\n",
    "        n = len(str2);\n",
    "     \n",
    "        j = 0; # For index of str1 (or subsequence\n",
    "     \n",
    "        # Traverse str2 and str1, and compare current\n",
    "        # character of str2 with first unmatched char\n",
    "        # of str1, if matched then move ahead in str1\n",
    "        i = 0;\n",
    "        while (i < n and j < m):\n",
    "            if (str1[j] == str2[i]):\n",
    "                j += 1;\n",
    "            i += 1;\n",
    "     \n",
    "        # If all characters of str1 were found in str2\n",
    "        return (j == m);\n",
    "        \n",
    "    def findLongestWord (self, S, d):\n",
    "        max_str = \"\";\n",
    "     \n",
    "        # Traverse through all words of dictionary\n",
    "        for word in d:\n",
    "             \n",
    "            # If current word is subsequence of str and is largest\n",
    "            # such word so far.\n",
    "            if (self.isSubSequence(word, S)):\n",
    "                if len(word)>len(max_str) or (len(word)==len(max_str) and word<max_str):\n",
    "                    max_str = word\n",
    "     \n",
    "        # Return longest string\n",
    "        return max_str;"
   ]
  },
  {
   "cell_type": "code",
   "execution_count": null,
   "metadata": {},
   "outputs": [],
   "source": []
  }
 ],
 "metadata": {
  "kernelspec": {
   "display_name": "venv-interviews-3.9",
   "language": "python",
   "name": "python3"
  },
  "language_info": {
   "codemirror_mode": {
    "name": "ipython",
    "version": 3
   },
   "file_extension": ".py",
   "mimetype": "text/x-python",
   "name": "python",
   "nbconvert_exporter": "python",
   "pygments_lexer": "ipython3",
   "version": "3.9.16"
  },
  "orig_nbformat": 4
 },
 "nbformat": 4,
 "nbformat_minor": 2
}
