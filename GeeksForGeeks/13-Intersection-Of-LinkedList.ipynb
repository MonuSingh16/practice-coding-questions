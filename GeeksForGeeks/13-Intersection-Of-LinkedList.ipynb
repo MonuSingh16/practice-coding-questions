{
 "cells": [
  {
   "attachments": {},
   "cell_type": "markdown",
   "metadata": {},
   "source": [
    "**Question**\n",
    "\n",
    "Given two linked lists, the task is to complete the function findIntersection(), that returns the intersection of two linked lists. Each of the two linked list contains distinct node values.\n",
    "\n"
   ]
  },
  {
   "cell_type": "code",
   "execution_count": 1,
   "metadata": {},
   "outputs": [],
   "source": [
    "class Solution:\n",
    "    def findIntersection(self, head1, head2):\n",
    "        st = set()\n",
    "        while head2:\n",
    "            st.add(head2.data)\n",
    "            head2 = head2.next\n",
    "        \n",
    "        newHead = None\n",
    "        newTail = None\n",
    "        \n",
    "        while head1:\n",
    "            \n",
    "            if head1.data in st:\n",
    "                if newHead is None:\n",
    "                    newHead = newTail = Node(head1.data)\n",
    "                else:\n",
    "                    newTail.next = Node(head1.data)\n",
    "                    newTail = newTail.next\n",
    "            \n",
    "            head1 = head1.next\n",
    "        \n",
    "        return newHead"
   ]
  },
  {
   "cell_type": "code",
   "execution_count": null,
   "metadata": {},
   "outputs": [],
   "source": []
  }
 ],
 "metadata": {
  "kernelspec": {
   "display_name": "venv-interviews-3.9",
   "language": "python",
   "name": "python3"
  },
  "language_info": {
   "codemirror_mode": {
    "name": "ipython",
    "version": 3
   },
   "file_extension": ".py",
   "mimetype": "text/x-python",
   "name": "python",
   "nbconvert_exporter": "python",
   "pygments_lexer": "ipython3",
   "version": "3.9.16"
  },
  "orig_nbformat": 4
 },
 "nbformat": 4,
 "nbformat_minor": 2
}
