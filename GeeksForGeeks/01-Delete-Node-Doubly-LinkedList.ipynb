{
 "cells": [
  {
   "attachments": {},
   "cell_type": "markdown",
   "metadata": {},
   "source": [
    "Given a doubly linked list and a position. The task is to delete a node from given position in a doubly linked list\n",
    "\n",
    "Input:\n",
    "\n",
    "LinkedList = 1 <--> 3 <--> 4 \n",
    "x = 3\n",
    "\n",
    "Output: 1 3  \n",
    "\n",
    "Explanation: After deleting the node at\n",
    "position 3 (position starts from 1),\n",
    "the linked list will be now as 1->3.\n",
    "\n",
    "https://www.geeksforgeeks.org/delete-a-node-in-a-doubly-linked-list/"
   ]
  },
  {
   "cell_type": "code",
   "execution_count": 1,
   "metadata": {},
   "outputs": [],
   "source": [
    "class Solution:\n",
    "    def deleteNode(self,head, x):\n",
    "        # Code here\n",
    "        node = llist.head\n",
    "        x-=1\n",
    "        while x!=0:\n",
    "            node = node.next\n",
    "            x-=1\n",
    "        if head is None or node is None:\n",
    "            return\n",
    "        if head==node:\n",
    "            head=node.next\n",
    "        if node.next is not  None:\n",
    "            node.next.prev = node.prev\n",
    "        if node.prev is not None:\n",
    "            node.prev.next = node.next\n",
    "        del node"
   ]
  },
  {
   "cell_type": "code",
   "execution_count": null,
   "metadata": {},
   "outputs": [],
   "source": []
  }
 ],
 "metadata": {
  "kernelspec": {
   "display_name": "venv-interviews-3.9",
   "language": "python",
   "name": "python3"
  },
  "language_info": {
   "codemirror_mode": {
    "name": "ipython",
    "version": 3
   },
   "file_extension": ".py",
   "mimetype": "text/x-python",
   "name": "python",
   "nbconvert_exporter": "python",
   "pygments_lexer": "ipython3",
   "version": "3.9.16"
  },
  "orig_nbformat": 4
 },
 "nbformat": 4,
 "nbformat_minor": 2
}
