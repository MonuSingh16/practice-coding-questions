{
 "cells": [
  {
   "attachments": {},
   "cell_type": "markdown",
   "metadata": {},
   "source": [
    "Given a binary tree, find its preorder traversal."
   ]
  },
  {
   "attachments": {},
   "cell_type": "markdown",
   "metadata": {},
   "source": [
    "The main idea is to use recursion and first visit root node and store it in a vector, then recursively call the left sub tree and right sub tree respectively\n",
    "\n",
    "Steps:-\n",
    "\n",
    "1. Create a vector to store the answer.\n",
    "2. Create a function name pre_order for recursive calls of left and right subtree.\n",
    "3. In the function first check if node is null it means their no child possible for this node then return.\n",
    "4. Else recursively call for left subtree.\n",
    "5. Then push the data of node into the answer vector.\n",
    "6. Now recursively call for right subtree.\n",
    "7. Call the preorder function from the main function passing the parameter root and answer vector with reference (for optimization of time complexity)\n"
   ]
  },
  {
   "cell_type": "code",
   "execution_count": null,
   "metadata": {},
   "outputs": [],
   "source": [
    "#Back-end complete function Template for Python 3\n",
    "\n",
    "\n",
    "#Initial Template for Python 3\n",
    "\n",
    "#Function to find the preorder traversal of the tree.\n",
    "\n",
    "def preorderUtil(root, res):\n",
    "    #preorder traversal works on Root Left Right.\n",
    "    \n",
    "    #if root is null then we simply return. \n",
    "    if root is None: \n",
    "        return\n",
    "    \n",
    "    #first, we store the data at root in a list.\n",
    "    res.append (root.data)\n",
    "    #then we call the recursive function for left subtree.\n",
    "    preorderUtil(root.left, res)\n",
    "    #then we call the recursive function for right subtree.\n",
    "    preorderUtil(root.right, res)\n",
    "    \n",
    "\n",
    "#Function to return a list containing the preorder traversal of the tree.    \n",
    "def preorder (root):\n",
    "    res = []\n",
    "    preorderUtil (root, res)\n",
    "    #returning the list.\n",
    "    return res"
   ]
  }
 ],
 "metadata": {
  "language_info": {
   "name": "python"
  },
  "orig_nbformat": 4
 },
 "nbformat": 4,
 "nbformat_minor": 2
}
