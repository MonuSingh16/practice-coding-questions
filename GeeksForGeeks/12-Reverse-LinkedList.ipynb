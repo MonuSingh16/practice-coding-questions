{
 "cells": [
  {
   "attachments": {},
   "cell_type": "markdown",
   "metadata": {},
   "source": [
    "**Question**\n",
    "\n",
    "Given a linked list of N nodes. The task is to reverse this list.\n",
    "\n"
   ]
  },
  {
   "attachments": {},
   "cell_type": "markdown",
   "metadata": {},
   "source": [
    "**Implementation**\n",
    "\n",
    "1. Divide the list in two parts – first node and rest of the linked list.\n",
    "2. Call reverse for the rest of the linked list.\n",
    "3. Link the rest linked list to first.\n",
    "4. Fix head pointer to NULL"
   ]
  },
  {
   "attachments": {},
   "cell_type": "markdown",
   "metadata": {},
   "source": [
    "Implementation\n",
    "\n",
    "1. Initialize three pointers prev as NULL, curr as head and next as NULL.\n",
    "2. Iterate through the linked list. In loop, do following. \n",
    "    1. Before changing next of current, store next node next = curr->next\n",
    "    2. Now change next of current, This is where actual reversing happens curr->next = prev \n",
    "    3. Move prev and curr one step forward prev = curr , curr = next"
   ]
  },
  {
   "cell_type": "code",
   "execution_count": 1,
   "metadata": {},
   "outputs": [],
   "source": [
    "class Solution:\n",
    "    #Function to reverse a linked list.\n",
    "    def reverseList(self, head):\n",
    "        if head is None:\n",
    "            return None\n",
    "        \n",
    "        #taking three pointers to store the current, previous and next nodes.\n",
    "        prev = None\n",
    "        current = head\n",
    "        nxt = current.next\n",
    "        \n",
    "        \n",
    "        while current is not None:\n",
    "            #taking the next node as next.\n",
    "            nxt = current.next \n",
    "            \n",
    "            #storing the previous node in link part of current node.\n",
    "            current.next = prev \n",
    "            \n",
    "            #updating prev from previous node to current node.\n",
    "            prev = current\n",
    "            \n",
    "            #updating current node to next node.\n",
    "            current = nxt           \n",
    "        \n",
    "        return prev"
   ]
  },
  {
   "cell_type": "code",
   "execution_count": null,
   "metadata": {},
   "outputs": [],
   "source": []
  }
 ],
 "metadata": {
  "kernelspec": {
   "display_name": "venv-interviews-3.9",
   "language": "python",
   "name": "python3"
  },
  "language_info": {
   "codemirror_mode": {
    "name": "ipython",
    "version": 3
   },
   "file_extension": ".py",
   "mimetype": "text/x-python",
   "name": "python",
   "nbconvert_exporter": "python",
   "pygments_lexer": "ipython3",
   "version": "3.9.16"
  },
  "orig_nbformat": 4
 },
 "nbformat": 4,
 "nbformat_minor": 2
}
