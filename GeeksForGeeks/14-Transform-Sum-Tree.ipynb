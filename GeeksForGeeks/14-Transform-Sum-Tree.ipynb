{
 "cells": [
  {
   "attachments": {},
   "cell_type": "markdown",
   "metadata": {},
   "source": [
    "**Question**\n",
    "\n",
    "Given a Binary Tree of size N , where each node can have positive or negative values. Convert this to a tree where value of each node will be the sum of the values of all the nodes in left and right sub trees of the original tree. The values of leaf nodes are changed to 0.\n"
   ]
  },
  {
   "attachments": {},
   "cell_type": "markdown",
   "metadata": {},
   "source": [
    "**Intuition**\n",
    "\n",
    "The problem can be solved by using recursion. The idea is to recursively convert the left and right subtree before processing a node by traversing the tree in a postorder fashion.\n",
    "\n",
    "**Implementation**\n",
    "- Step 1: Create another function, toSumTreeUtil, for making recursive call. Here toSumTreeUtil will update the old value of all nodes.\n",
    "- Step 2: Call toSumTreeUtil in the given function.\n",
    "- Step 3: In toSumTreeUtil we are doing a traversal of the given tree. In the traversal, store the old value of the current node, recursively call for left and right subtrees and change the value of current node as sum of the values returned by the recursive calls. Finally return the sum of new value and value (which is sum of values in the subtree rooted with this node)."
   ]
  },
  {
   "cell_type": "code",
   "execution_count": 1,
   "metadata": {},
   "outputs": [],
   "source": [
    "class Solution:\n",
    "    def toSumTree(self, Node) : \n",
    "          \n",
    "        # Base case  \n",
    "        if(Node == None) : \n",
    "            return 0\n",
    "      \n",
    "        # Store the old value  \n",
    "        old_val = Node.data  \n",
    "      \n",
    "        # Recursively call for left and  \n",
    "        # right subtrees and store the sum as  \n",
    "        # new value of this node  \n",
    "        Node.data = self.toSumTree(Node.left) +  self.toSumTree(Node.right)  \n",
    "      \n",
    "        # Return the sum of values of nodes  \n",
    "        # in left and right subtrees and  \n",
    "        # old_value of this node  \n",
    "        return Node.data + old_val "
   ]
  },
  {
   "cell_type": "code",
   "execution_count": null,
   "metadata": {},
   "outputs": [],
   "source": []
  }
 ],
 "metadata": {
  "kernelspec": {
   "display_name": "venv-interviews-3.9",
   "language": "python",
   "name": "python3"
  },
  "language_info": {
   "codemirror_mode": {
    "name": "ipython",
    "version": 3
   },
   "file_extension": ".py",
   "mimetype": "text/x-python",
   "name": "python",
   "nbconvert_exporter": "python",
   "pygments_lexer": "ipython3",
   "version": "3.9.16"
  },
  "orig_nbformat": 4
 },
 "nbformat": 4,
 "nbformat_minor": 2
}
