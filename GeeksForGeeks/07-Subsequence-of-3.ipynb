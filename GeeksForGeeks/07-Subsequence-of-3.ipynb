{
 "cells": [
  {
   "attachments": {},
   "cell_type": "markdown",
   "metadata": {},
   "source": [
    "**Question**\n",
    "\n",
    "Given an array A of N integers, find any 3 elements in it such that A[i] < A[j] < A[k] and i < j < k.\n",
    "\n",
    "Input:\n",
    "N = 5\n",
    "A[] = {1,2,1,1,3}\n",
    "Output: 1\n",
    "Explanation: a sub-sequence 1 2 3 exist.\n",
    "\n",
    "Your task is to complete the function find3Numbers which finds any 3 elements in it such that A[i] < A[j] < A[k] and i < j < k. You need to return them as a vector/ArrayList/array (depending on the language cpp/Java/Python), if no such element is present then return the empty vector of size 0.\n",
    "\n",
    "\n"
   ]
  },
  {
   "attachments": {},
   "cell_type": "markdown",
   "metadata": {},
   "source": [
    "**Solution**\n",
    "\n",
    "Approach: This can be solved in a very simple way. To find an element which has an element smaller than itself on its left side of the array, check if that element is the smallest element while traversing the array from the starting index i.e., (0), and to check if there is an element greater than itself on its right side of the array check whether that element is the largest element while traversing from the end of the array i.e., (n-1). If the element is not the smallest element from 0 to that index then it has an element smaller than itself on its left side, and similarly, if the element is not the largest element from that index to the last index then there is a larger element on its right side.\n",
    "\n",
    "\n",
    "1. Create an auxiliary array smaller[0..n-1]. smaller[i] stores the index of a number which is smaller than arr[i] and is on the left side. The array contains -1 if there is no such element.\n",
    "2. Create another auxiliary array greater[0..n-1]. greater[i] stores the index of a number which is greater than arr[i] and is on the right side of arr[i]. The array contains -1 if there is no such element.\n",
    "3. Finally traverse both smaller[] and greater[] and find the index [i] for which both smaller[i] and greater[i] are not equal to -1.\n"
   ]
  },
  {
   "cell_type": "code",
   "execution_count": 1,
   "metadata": {},
   "outputs": [],
   "source": [
    "class Solution:\n",
    "    def find3number(self,A, n):\n",
    "        #Code here\n",
    "        max=n-1\n",
    "        min=0\n",
    "        small = [0]*n\n",
    "        small[0]=-1\n",
    "        for i in range(1, n):\n",
    "            if(arr[i] <= arr[min]):\n",
    "                min=i\n",
    "                small[i]=-1\n",
    "            else:\n",
    "                small[i]=min\n",
    "        great = [0]*n\n",
    "        great[n-1]=-1\n",
    "        for i in range(n-2, -1, -1):\n",
    "            if(arr[i] >= arr[max]):\n",
    "                max=i\n",
    "                great[i]=-1\n",
    "            else:\n",
    "                great[i]=max\n",
    "        lis=[]\n",
    "        for i in range(n):\n",
    "            if small[i] != -1 and great[i] != -1:\n",
    "                lis.append(A[small[i]])\n",
    "                lis.append(A[i])\n",
    "                lis.append(A[great[i]])\n",
    "                return lis\n",
    "        return lis"
   ]
  },
  {
   "cell_type": "code",
   "execution_count": null,
   "metadata": {},
   "outputs": [],
   "source": []
  }
 ],
 "metadata": {
  "kernelspec": {
   "display_name": "venv-interviews-3.9",
   "language": "python",
   "name": "python3"
  },
  "language_info": {
   "codemirror_mode": {
    "name": "ipython",
    "version": 3
   },
   "file_extension": ".py",
   "mimetype": "text/x-python",
   "name": "python",
   "nbconvert_exporter": "python",
   "pygments_lexer": "ipython3",
   "version": "3.9.16"
  },
  "orig_nbformat": 4
 },
 "nbformat": 4,
 "nbformat_minor": 2
}
