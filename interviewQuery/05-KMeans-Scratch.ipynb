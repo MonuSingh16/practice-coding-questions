{
 "cells": [
  {
   "attachments": {},
   "cell_type": "markdown",
   "metadata": {},
   "source": [
    "Implement the k-means clustering algorithm in python from scratch, given the following:\n",
    "\n",
    "- A two-dimensional NumPy array data_points that is an arbitrary number of data points (rows) n and an arbitrary number of columns m.\n",
    "- Number of k clusters k.\n",
    "- The initial centroids value of the data points at each cluster initial_centroids.\n",
    "\n",
    "Return a list of the cluster of each point in the original list data_points with the same order (as a integer)."
   ]
  },
  {
   "cell_type": "code",
   "execution_count": 2,
   "metadata": {},
   "outputs": [],
   "source": [
    "#Input\n",
    "data_points = [(0,0),(3,4),(4,4),(1,0),(0,1),(4,3)]\n",
    "k = 2\n",
    "initial_centroids = [(1,1),(4,5)]"
   ]
  },
  {
   "cell_type": "code",
   "execution_count": 5,
   "metadata": {},
   "outputs": [],
   "source": [
    "import numpy as np\n",
    "\n",
    "def k_means_clustering(data_points, k, initial_centroids):\n",
    "    #arbitrary stop condition - probably should be compare iterations\n",
    "    #to prev and stop if threshold is small enough\n",
    "    data_points = np.array(data_points)\n",
    "    initial_centroids = np.array(initial_centroids)\n",
    "    for _ in range(20):\n",
    "        dists = np.linalg.norm(data_points-initial_centroids[:, np.newaxis], axis=2)\n",
    "        print(\"Distributions\", dists)\n",
    "        clusters = np.argmin(dists, axis=0)\n",
    "        print(\"Clusters\", clusters)\n",
    "        for i in range(initial_centroids.shape[0]):\n",
    "            initial_centroids[i, :] = np.mean(data_points[i == clusters, :], 0)\n",
    "    return clusters"
   ]
  },
  {
   "cell_type": "code",
   "execution_count": 6,
   "metadata": {},
   "outputs": [
    {
     "name": "stdout",
     "output_type": "stream",
     "text": [
      "Distributions [[1.41421356 3.60555128 4.24264069 1.         1.         3.60555128]\n",
      " [6.40312424 1.41421356 1.         5.83095189 5.65685425 2.        ]]\n",
      "Clusters [0 1 1 0 0 1]\n",
      "Distributions [[0.         5.         5.65685425 1.         1.         5.        ]\n",
      " [4.24264069 1.         1.41421356 3.60555128 3.60555128 1.        ]]\n",
      "Clusters [0 1 1 0 0 1]\n",
      "Distributions [[0.         5.         5.65685425 1.         1.         5.        ]\n",
      " [4.24264069 1.         1.41421356 3.60555128 3.60555128 1.        ]]\n",
      "Clusters [0 1 1 0 0 1]\n",
      "Distributions [[0.         5.         5.65685425 1.         1.         5.        ]\n",
      " [4.24264069 1.         1.41421356 3.60555128 3.60555128 1.        ]]\n",
      "Clusters [0 1 1 0 0 1]\n",
      "Distributions [[0.         5.         5.65685425 1.         1.         5.        ]\n",
      " [4.24264069 1.         1.41421356 3.60555128 3.60555128 1.        ]]\n",
      "Clusters [0 1 1 0 0 1]\n",
      "Distributions [[0.         5.         5.65685425 1.         1.         5.        ]\n",
      " [4.24264069 1.         1.41421356 3.60555128 3.60555128 1.        ]]\n",
      "Clusters [0 1 1 0 0 1]\n",
      "Distributions [[0.         5.         5.65685425 1.         1.         5.        ]\n",
      " [4.24264069 1.         1.41421356 3.60555128 3.60555128 1.        ]]\n",
      "Clusters [0 1 1 0 0 1]\n",
      "Distributions [[0.         5.         5.65685425 1.         1.         5.        ]\n",
      " [4.24264069 1.         1.41421356 3.60555128 3.60555128 1.        ]]\n",
      "Clusters [0 1 1 0 0 1]\n",
      "Distributions [[0.         5.         5.65685425 1.         1.         5.        ]\n",
      " [4.24264069 1.         1.41421356 3.60555128 3.60555128 1.        ]]\n",
      "Clusters [0 1 1 0 0 1]\n",
      "Distributions [[0.         5.         5.65685425 1.         1.         5.        ]\n",
      " [4.24264069 1.         1.41421356 3.60555128 3.60555128 1.        ]]\n",
      "Clusters [0 1 1 0 0 1]\n",
      "Distributions [[0.         5.         5.65685425 1.         1.         5.        ]\n",
      " [4.24264069 1.         1.41421356 3.60555128 3.60555128 1.        ]]\n",
      "Clusters [0 1 1 0 0 1]\n",
      "Distributions [[0.         5.         5.65685425 1.         1.         5.        ]\n",
      " [4.24264069 1.         1.41421356 3.60555128 3.60555128 1.        ]]\n",
      "Clusters [0 1 1 0 0 1]\n",
      "Distributions [[0.         5.         5.65685425 1.         1.         5.        ]\n",
      " [4.24264069 1.         1.41421356 3.60555128 3.60555128 1.        ]]\n",
      "Clusters [0 1 1 0 0 1]\n",
      "Distributions [[0.         5.         5.65685425 1.         1.         5.        ]\n",
      " [4.24264069 1.         1.41421356 3.60555128 3.60555128 1.        ]]\n",
      "Clusters [0 1 1 0 0 1]\n",
      "Distributions [[0.         5.         5.65685425 1.         1.         5.        ]\n",
      " [4.24264069 1.         1.41421356 3.60555128 3.60555128 1.        ]]\n",
      "Clusters [0 1 1 0 0 1]\n",
      "Distributions [[0.         5.         5.65685425 1.         1.         5.        ]\n",
      " [4.24264069 1.         1.41421356 3.60555128 3.60555128 1.        ]]\n",
      "Clusters [0 1 1 0 0 1]\n",
      "Distributions [[0.         5.         5.65685425 1.         1.         5.        ]\n",
      " [4.24264069 1.         1.41421356 3.60555128 3.60555128 1.        ]]\n",
      "Clusters [0 1 1 0 0 1]\n",
      "Distributions [[0.         5.         5.65685425 1.         1.         5.        ]\n",
      " [4.24264069 1.         1.41421356 3.60555128 3.60555128 1.        ]]\n",
      "Clusters [0 1 1 0 0 1]\n",
      "Distributions [[0.         5.         5.65685425 1.         1.         5.        ]\n",
      " [4.24264069 1.         1.41421356 3.60555128 3.60555128 1.        ]]\n",
      "Clusters [0 1 1 0 0 1]\n",
      "Distributions [[0.         5.         5.65685425 1.         1.         5.        ]\n",
      " [4.24264069 1.         1.41421356 3.60555128 3.60555128 1.        ]]\n",
      "Clusters [0 1 1 0 0 1]\n"
     ]
    },
    {
     "data": {
      "text/plain": [
       "array([0, 1, 1, 0, 0, 1])"
      ]
     },
     "execution_count": 6,
     "metadata": {},
     "output_type": "execute_result"
    }
   ],
   "source": [
    "k_means_clustering(data_points, k, initial_centroids)"
   ]
  },
  {
   "cell_type": "code",
   "execution_count": null,
   "metadata": {},
   "outputs": [],
   "source": []
  }
 ],
 "metadata": {
  "kernelspec": {
   "display_name": "venv-interviews-3.9",
   "language": "python",
   "name": "python3"
  },
  "language_info": {
   "codemirror_mode": {
    "name": "ipython",
    "version": 3
   },
   "file_extension": ".py",
   "mimetype": "text/x-python",
   "name": "python",
   "nbconvert_exporter": "python",
   "pygments_lexer": "ipython3",
   "version": "3.9.16"
  },
  "orig_nbformat": 4
 },
 "nbformat": 4,
 "nbformat_minor": 2
}
