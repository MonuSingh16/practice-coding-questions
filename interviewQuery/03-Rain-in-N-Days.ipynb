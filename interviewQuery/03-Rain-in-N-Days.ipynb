{
 "cells": [
  {
   "attachments": {},
   "cell_type": "markdown",
   "metadata": {},
   "source": [
    "**Question**\n",
    "The probability that it will rain tomorrow is dependent on whether or not it is raining today and whether or not it rained yesterday.\n",
    "\n",
    "If it rained yesterday and today, there is a 20% chance it will rain tomorrow. If it rained one of the days, there is a 60% chance it will rain tomorrow. If it rained neither today nor yesterday, there is a 20% chance it will rain tomorrow.\n",
    "\n",
    "Given that it is raining today and that it rained yesterday, write a function rain_days to calculate the probability that it will rain on the nth day after today.\n"
   ]
  },
  {
   "attachments": {},
   "cell_type": "markdown",
   "metadata": {},
   "source": [
    "**Solution**\n",
    "\n",
    "Letting “R” denote a rainy day and “T” denote a not rainy day, we first notice there are four states we move between: RR, RT, TR, RR. We assign a number to each state: RR=0, RT=1, TR=2, TT=3. We start the process in state 0 as it rained yesterday and today.\n",
    "\n",
    "Next we want to set up a transition array where the i,jth entry is the probability of moving from state i to state j in one transition. These values P[i, j] are given in the statement of the problem. Notice the scenario that it rains “one of the days” must be broken up into two states TR and RT. If we are in state TR, and it rains tomorrow, we move to RR. But if we are in state RT and it rains tomorrow, we move to state TR."
   ]
  },
  {
   "cell_type": "code",
   "execution_count": 2,
   "metadata": {},
   "outputs": [],
   "source": [
    "import numpy as np\n",
    "P  = np.zeros((4,4))\n",
    "P[0,0] = 0.2\n",
    "P[0,1] = 0.8\n",
    "P[1,2] = 0.6\n",
    "P[1,3] = 0.4\n",
    "P[2,0] = 0.6\n",
    "P[2,1] = 0.4\n",
    "P[3,2] = 0.2\n",
    "P[3,3] = 0.8"
   ]
  },
  {
   "attachments": {},
   "cell_type": "markdown",
   "metadata": {},
   "source": [
    "We start the process in state RR=0 where today is the 2nd R. Thus the nth day from now will be the 2nd day in the pair after n transitions. So we want the probability of moving from RR=0 to RR=0 or TR=2 in n transitions.\n",
    "\n"
   ]
  },
  {
   "attachments": {},
   "cell_type": "markdown",
   "metadata": {},
   "source": [
    "To do this, we take the nth power of our transition array P and return the sum of the [0,0]th entry and the [0,2]th. This is the sum of the probability we move from RR=0 to RR=0 with the probability we move from RR=0 to TR=2 after n moves.\n",
    "\n"
   ]
  },
  {
   "cell_type": "code",
   "execution_count": 3,
   "metadata": {},
   "outputs": [],
   "source": [
    "import numpy as np\n",
    "from numpy.linalg import matrix_power\n",
    "def rain_days(n):\n",
    "    P  = np.zeros((4,4))\n",
    "    P[0,0] = 0.2\n",
    "    P[0,1] = 0.8\n",
    "    P[1,2] = 0.6\n",
    "    P[1,3] = 0.4\n",
    "    P[2,0] = 0.6\n",
    "    P[2,1] = 0.4\n",
    "    P[3,2] = 0.2\n",
    "    P[3,3] = 0.8\n",
    "    P = matrix_power(P,n)\n",
    "    m = P[0,0] + P[0,2]\n",
    "    return(m)"
   ]
  },
  {
   "cell_type": "code",
   "execution_count": 1,
   "metadata": {},
   "outputs": [],
   "source": [
    "import numpy as np\n",
    "from numpy.linalg import matrix_power\n",
    "\n",
    "def rain_days(n):\n",
    "    P[0,0] = 0.2\n",
    "    P[0,1] = 0.8\n",
    "    P[1,2] = 0.6\n",
    "    P[1,3] = 0.4\n",
    "    P[2,0] = 0.6\n",
    "    P[2,1] = 0.4\n",
    "    P[3,2] = 0.2\n",
    "    P[3,3] = 0.8\n",
    "    P = matrix_power(P,n)\n",
    "    m = P[0,0] + P[0,2]\n",
    "    return(m)\n"
   ]
  },
  {
   "cell_type": "code",
   "execution_count": null,
   "metadata": {},
   "outputs": [],
   "source": []
  }
 ],
 "metadata": {
  "kernelspec": {
   "display_name": "venv-interviews-3.9",
   "language": "python",
   "name": "python3"
  },
  "language_info": {
   "codemirror_mode": {
    "name": "ipython",
    "version": 3
   },
   "file_extension": ".py",
   "mimetype": "text/x-python",
   "name": "python",
   "nbconvert_exporter": "python",
   "pygments_lexer": "ipython3",
   "version": "3.9.16"
  },
  "orig_nbformat": 4
 },
 "nbformat": 4,
 "nbformat_minor": 2
}
