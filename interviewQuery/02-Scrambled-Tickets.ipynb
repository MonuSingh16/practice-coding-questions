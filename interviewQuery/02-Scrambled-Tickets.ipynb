{
 "cells": [
  {
   "attachments": {},
   "cell_type": "markdown",
   "metadata": {},
   "source": [
    "Consider a trip from one city to another that may contain many layovers. Given the list of flights out of order, each with a starting city and end city, write a function plan_trip to reconstruct the path of the trip so the trip tickets are in order.\n",
    "\n"
   ]
  },
  {
   "cell_type": "code",
   "execution_count": 1,
   "metadata": {},
   "outputs": [],
   "source": [
    "flights = [\n",
    "    ['Chennai', 'Bangalore'], \n",
    "    ['Bombay', 'Delhi'], \n",
    "    ['Goa', 'Chennai'], \n",
    "    ['Delhi', 'Goa'], \n",
    "    ['Bangalore', 'Beijing']\n",
    "]\n",
    "output = [\n",
    "    ['Bombay', 'Delhi'], \n",
    "    ['Delhi', 'Goa'], \n",
    "    ['Goa', 'Chennai'], \n",
    "    ['Chennai', 'Bangalore'], \n",
    "    ['Bangalore', 'Beijing'],\n",
    "]"
   ]
  },
  {
   "attachments": {},
   "cell_type": "markdown",
   "metadata": {},
   "source": [
    "There are a few correct solutions to this problem that are O(N) time, but let’s take a look at a simple, elegant solution that uses a directed acyclic graph (DAG).\n",
    "\n",
    "In problems of this nature, it’s good to clarify your assumptions with the interviewer. Let’s start out by stating our assumptions.\n",
    "\n",
    "- Can we assume the input will always be valid?\n",
    "- Is this set of flights guaranteed to not have duplicates? (e.g. Can we visit any of the cities twice?)\n",
    "\n",
    "The first thing we need to do is figure out where the start and end cities are. We can do that by building our graph and traversing through each (start city: end city) combination.\n",
    "\n",
    "There are a few ways to do this, but the simplest is to iterate through the list of tickets and sort the departure and arrival cities into sets. While we’re doing this, we can also build up our directed graph as a dictionary where the departure city is the key, and the arrival city is the value. We then can take the set difference of the departure cities set and the arrival cities set, yielding a set containing only the first start city.\n",
    "\n",
    "Now that we have the graph built up and the starting point, we simply iterate through and print each pair until we’ve exhausted our list.\n",
    "\n",
    "The corner cases are also worth discussing. What happens if the trip array is empty? What about if there is only one flight? These are things you should be prepared to answer if the interviewer asks.\n",
    "\n",
    "What’s the runtime of this? O(n). Why? We make one pass over the array of tickets to enter cities into the sets and create our graph. We then traverse our graph of cities which is also an O(n) operation. Since the number of operations ends up being a constant times O(n), we just say this is O(n).\n",
    "\n",
    "Where does this solution break down? This stops working if there are ever any cycles in the list. Say for instance, we went from Bombay to Delhi, Delhi to Goa, Goa to Bombay, now our program would never terminate because we would be stuck in a cycle. The scope of the problem would probably have to change from finding the path to determining if there is a valid path given the input."
   ]
  },
  {
   "cell_type": "code",
   "execution_count": 5,
   "metadata": {},
   "outputs": [
    {
     "name": "stdout",
     "output_type": "stream",
     "text": [
      "CHECK 1 defaultdict(<function plan_trip.<locals>.<lambda> at 0x105be2d30>, {'Chennai': 'Bangalore'})\n",
      "CHECK 2 {'Chennai'} {'Bangalore'}\n",
      "CHECK 1 defaultdict(<function plan_trip.<locals>.<lambda> at 0x105be2d30>, {'Chennai': 'Bangalore', 'Bombay': 'Delhi'})\n",
      "CHECK 2 {'Chennai', 'Bombay'} {'Delhi', 'Bangalore'}\n",
      "CHECK 1 defaultdict(<function plan_trip.<locals>.<lambda> at 0x105be2d30>, {'Chennai': 'Bangalore', 'Bombay': 'Delhi', 'Goa': 'Chennai'})\n",
      "CHECK 2 {'Chennai', 'Goa', 'Bombay'} {'Chennai', 'Delhi', 'Bangalore'}\n",
      "CHECK 1 defaultdict(<function plan_trip.<locals>.<lambda> at 0x105be2d30>, {'Chennai': 'Bangalore', 'Bombay': 'Delhi', 'Goa': 'Chennai', 'Delhi': 'Goa'})\n",
      "CHECK 2 {'Chennai', 'Goa', 'Delhi', 'Bombay'} {'Chennai', 'Goa', 'Delhi', 'Bangalore'}\n",
      "CHECK 1 defaultdict(<function plan_trip.<locals>.<lambda> at 0x105be2d30>, {'Chennai': 'Bangalore', 'Bombay': 'Delhi', 'Goa': 'Chennai', 'Delhi': 'Goa', 'Bangalore': 'Beijing'})\n",
      "CHECK 2 {'Bombay', 'Chennai', 'Goa', 'Delhi', 'Bangalore'} {'Beijing', 'Chennai', 'Goa', 'Delhi', 'Bangalore'}\n",
      "CHECK 3 Bombay\n",
      "CHECK 4 Bombay Delhi\n"
     ]
    },
    {
     "data": {
      "text/plain": [
       "[['Bombay', 'Delhi'],\n",
       " ['Delhi', 'Goa'],\n",
       " ['Goa', 'Chennai'],\n",
       " ['Chennai', 'Bangalore'],\n",
       " ['Bangalore', 'Beijing']]"
      ]
     },
     "execution_count": 5,
     "metadata": {},
     "output_type": "execute_result"
    }
   ],
   "source": [
    "import collections\n",
    "def plan_trip(flights):\n",
    "    trip_graph = collections.defaultdict(lambda: None)\n",
    "    source_cities = set()\n",
    "    destination_cities = set()\n",
    "    for source, destination in flights:\n",
    "        trip_graph[source] = destination\n",
    "        print('CHECK 1',trip_graph)\n",
    "        source_cities.add(source)\n",
    "        destination_cities.add(destination)\n",
    "        print('CHECK 2', source_cities, destination_cities)\n",
    "\n",
    "    start_city = (source_cities - destination_cities).pop()\n",
    "    print('CHECK 3',start_city)\n",
    "    traversal = []\n",
    "    start, end = start_city, trip_graph[start_city]\n",
    "    print('CHECK 4', start, end)\n",
    "    while end is not None:\n",
    "        traversal.append([start, end])\n",
    "        start, end = end, trip_graph[end]\n",
    "\n",
    "    return traversal\n",
    "\n",
    "plan_trip(flights)"
   ]
  },
  {
   "cell_type": "code",
   "execution_count": null,
   "metadata": {},
   "outputs": [],
   "source": [
    "import collections\n",
    "\n",
    "def plan_trip(flights):\n",
    "    trip_graph = collections.defaultdict(lambda:None)\n",
    "    source_cities = set()\n",
    "    destination_cities = set()\n",
    "\n",
    "    for source, destination in flights:\n",
    "        trip_graph[source] = destination\n",
    "        source_cities.add(source)\n",
    "        destination_cities.add(destination)\n",
    "\n",
    "    start_city = (source_cities - destination_cities).pop()\n",
    "    traversal = []\n",
    "    start, end = start_city, trip_graph[start_city]\n",
    "    while end is not None:\n",
    "        traversal.append([start, end])\n",
    "        start, end = end, trip_graph[end]\n",
    "    \n",
    "    return traversal\n",
    "\n",
    "\n"
   ]
  },
  {
   "cell_type": "code",
   "execution_count": null,
   "metadata": {},
   "outputs": [],
   "source": []
  }
 ],
 "metadata": {
  "kernelspec": {
   "display_name": "venv-interviews-3.9",
   "language": "python",
   "name": "python3"
  },
  "language_info": {
   "codemirror_mode": {
    "name": "ipython",
    "version": 3
   },
   "file_extension": ".py",
   "mimetype": "text/x-python",
   "name": "python",
   "nbconvert_exporter": "python",
   "pygments_lexer": "ipython3",
   "version": "3.9.16"
  },
  "orig_nbformat": 4
 },
 "nbformat": 4,
 "nbformat_minor": 2
}
